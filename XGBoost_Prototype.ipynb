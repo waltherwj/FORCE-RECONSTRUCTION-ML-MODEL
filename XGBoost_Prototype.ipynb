{
  "nbformat": 4,
  "nbformat_minor": 0,
  "metadata": {
    "colab": {
      "name": "XGBoost_Prototype.ipynb",
      "provenance": [],
      "toc_visible": true
    },
    "kernelspec": {
      "name": "python3",
      "display_name": "Python 3"
    },
    "accelerator": "GPU"
  },
  "cells": [
    {
      "cell_type": "markdown",
      "metadata": {
        "id": "uUjFEqMjJQa3",
        "colab_type": "text"
      },
      "source": [
        "# XGBoost Prototype\n",
        "This notebook will be used to develop a prototype machine learning model to be used for fitting the from the strain gauges for force reconstruction.\n",
        "At first the prototype is going to be developed using the dataset found at https://www.kaggle.com/daalgi/fem-simulations"
      ]
    },
    {
      "cell_type": "markdown",
      "metadata": {
        "id": "qGnx7o84R9_M",
        "colab_type": "text"
      },
      "source": [
        "## Introduction\n",
        "This first section introduces the general idea of what is going to be done and takes care of some housekeeping tasks like imports.\n",
        "The following cell imports the libraries we need for the model"
      ]
    },
    {
      "cell_type": "code",
      "metadata": {
        "id": "mN8kBsX3JHnD",
        "colab_type": "code",
        "colab": {}
      },
      "source": [
        "## Imports\n",
        "import numpy as np\n",
        "import pandas as pd\n",
        "import xgboost as xgb\n",
        "import pickle\n",
        "from google.colab import files\n",
        "from sklearn.multioutput import MultiOutputRegressor\n",
        "from sklearn.metrics import mean_squared_error\n",
        "from sklearn.model_selection import train_test_split, GridSearchCV, RandomizedSearchCV\n",
        "import matplotlib.pyplot as plt"
      ],
      "execution_count": 170,
      "outputs": []
    },
    {
      "cell_type": "markdown",
      "metadata": {
        "id": "huzKujbmJOhh",
        "colab_type": "text"
      },
      "source": [
        "Now the data needs to be loaded in. We are in a colab notebook, so the data is loaded as follows from a local drive which has to have the data already in it."
      ]
    },
    {
      "cell_type": "code",
      "metadata": {
        "id": "lH1GCohNSuYC",
        "colab_type": "code",
        "colab": {
          "resources": {
            "http://localhost:8080/nbextensions/google.colab/files.js": {
              "data": "Ly8gQ29weXJpZ2h0IDIwMTcgR29vZ2xlIExMQwovLwovLyBMaWNlbnNlZCB1bmRlciB0aGUgQXBhY2hlIExpY2Vuc2UsIFZlcnNpb24gMi4wICh0aGUgIkxpY2Vuc2UiKTsKLy8geW91IG1heSBub3QgdXNlIHRoaXMgZmlsZSBleGNlcHQgaW4gY29tcGxpYW5jZSB3aXRoIHRoZSBMaWNlbnNlLgovLyBZb3UgbWF5IG9idGFpbiBhIGNvcHkgb2YgdGhlIExpY2Vuc2UgYXQKLy8KLy8gICAgICBodHRwOi8vd3d3LmFwYWNoZS5vcmcvbGljZW5zZXMvTElDRU5TRS0yLjAKLy8KLy8gVW5sZXNzIHJlcXVpcmVkIGJ5IGFwcGxpY2FibGUgbGF3IG9yIGFncmVlZCB0byBpbiB3cml0aW5nLCBzb2Z0d2FyZQovLyBkaXN0cmlidXRlZCB1bmRlciB0aGUgTGljZW5zZSBpcyBkaXN0cmlidXRlZCBvbiBhbiAiQVMgSVMiIEJBU0lTLAovLyBXSVRIT1VUIFdBUlJBTlRJRVMgT1IgQ09ORElUSU9OUyBPRiBBTlkgS0lORCwgZWl0aGVyIGV4cHJlc3Mgb3IgaW1wbGllZC4KLy8gU2VlIHRoZSBMaWNlbnNlIGZvciB0aGUgc3BlY2lmaWMgbGFuZ3VhZ2UgZ292ZXJuaW5nIHBlcm1pc3Npb25zIGFuZAovLyBsaW1pdGF0aW9ucyB1bmRlciB0aGUgTGljZW5zZS4KCi8qKgogKiBAZmlsZW92ZXJ2aWV3IEhlbHBlcnMgZm9yIGdvb2dsZS5jb2xhYiBQeXRob24gbW9kdWxlLgogKi8KKGZ1bmN0aW9uKHNjb3BlKSB7CmZ1bmN0aW9uIHNwYW4odGV4dCwgc3R5bGVBdHRyaWJ1dGVzID0ge30pIHsKICBjb25zdCBlbGVtZW50ID0gZG9jdW1lbnQuY3JlYXRlRWxlbWVudCgnc3BhbicpOwogIGVsZW1lbnQudGV4dENvbnRlbnQgPSB0ZXh0OwogIGZvciAoY29uc3Qga2V5IG9mIE9iamVjdC5rZXlzKHN0eWxlQXR0cmlidXRlcykpIHsKICAgIGVsZW1lbnQuc3R5bGVba2V5XSA9IHN0eWxlQXR0cmlidXRlc1trZXldOwogIH0KICByZXR1cm4gZWxlbWVudDsKfQoKLy8gTWF4IG51bWJlciBvZiBieXRlcyB3aGljaCB3aWxsIGJlIHVwbG9hZGVkIGF0IGEgdGltZS4KY29uc3QgTUFYX1BBWUxPQURfU0laRSA9IDEwMCAqIDEwMjQ7CgpmdW5jdGlvbiBfdXBsb2FkRmlsZXMoaW5wdXRJZCwgb3V0cHV0SWQpIHsKICBjb25zdCBzdGVwcyA9IHVwbG9hZEZpbGVzU3RlcChpbnB1dElkLCBvdXRwdXRJZCk7CiAgY29uc3Qgb3V0cHV0RWxlbWVudCA9IGRvY3VtZW50LmdldEVsZW1lbnRCeUlkKG91dHB1dElkKTsKICAvLyBDYWNoZSBzdGVwcyBvbiB0aGUgb3V0cHV0RWxlbWVudCB0byBtYWtlIGl0IGF2YWlsYWJsZSBmb3IgdGhlIG5leHQgY2FsbAogIC8vIHRvIHVwbG9hZEZpbGVzQ29udGludWUgZnJvbSBQeXRob24uCiAgb3V0cHV0RWxlbWVudC5zdGVwcyA9IHN0ZXBzOwoKICByZXR1cm4gX3VwbG9hZEZpbGVzQ29udGludWUob3V0cHV0SWQpOwp9CgovLyBUaGlzIGlzIHJvdWdobHkgYW4gYXN5bmMgZ2VuZXJhdG9yIChub3Qgc3VwcG9ydGVkIGluIHRoZSBicm93c2VyIHlldCksCi8vIHdoZXJlIHRoZXJlIGFyZSBtdWx0aXBsZSBhc3luY2hyb25vdXMgc3RlcHMgYW5kIHRoZSBQeXRob24gc2lkZSBpcyBnb2luZwovLyB0byBwb2xsIGZvciBjb21wbGV0aW9uIG9mIGVhY2ggc3RlcC4KLy8gVGhpcyB1c2VzIGEgUHJvbWlzZSB0byBibG9jayB0aGUgcHl0aG9uIHNpZGUgb24gY29tcGxldGlvbiBvZiBlYWNoIHN0ZXAsCi8vIHRoZW4gcGFzc2VzIHRoZSByZXN1bHQgb2YgdGhlIHByZXZpb3VzIHN0ZXAgYXMgdGhlIGlucHV0IHRvIHRoZSBuZXh0IHN0ZXAuCmZ1bmN0aW9uIF91cGxvYWRGaWxlc0NvbnRpbnVlKG91dHB1dElkKSB7CiAgY29uc3Qgb3V0cHV0RWxlbWVudCA9IGRvY3VtZW50LmdldEVsZW1lbnRCeUlkKG91dHB1dElkKTsKICBjb25zdCBzdGVwcyA9IG91dHB1dEVsZW1lbnQuc3RlcHM7CgogIGNvbnN0IG5leHQgPSBzdGVwcy5uZXh0KG91dHB1dEVsZW1lbnQubGFzdFByb21pc2VWYWx1ZSk7CiAgcmV0dXJuIFByb21pc2UucmVzb2x2ZShuZXh0LnZhbHVlLnByb21pc2UpLnRoZW4oKHZhbHVlKSA9PiB7CiAgICAvLyBDYWNoZSB0aGUgbGFzdCBwcm9taXNlIHZhbHVlIHRvIG1ha2UgaXQgYXZhaWxhYmxlIHRvIHRoZSBuZXh0CiAgICAvLyBzdGVwIG9mIHRoZSBnZW5lcmF0b3IuCiAgICBvdXRwdXRFbGVtZW50Lmxhc3RQcm9taXNlVmFsdWUgPSB2YWx1ZTsKICAgIHJldHVybiBuZXh0LnZhbHVlLnJlc3BvbnNlOwogIH0pOwp9CgovKioKICogR2VuZXJhdG9yIGZ1bmN0aW9uIHdoaWNoIGlzIGNhbGxlZCBiZXR3ZWVuIGVhY2ggYXN5bmMgc3RlcCBvZiB0aGUgdXBsb2FkCiAqIHByb2Nlc3MuCiAqIEBwYXJhbSB7c3RyaW5nfSBpbnB1dElkIEVsZW1lbnQgSUQgb2YgdGhlIGlucHV0IGZpbGUgcGlja2VyIGVsZW1lbnQuCiAqIEBwYXJhbSB7c3RyaW5nfSBvdXRwdXRJZCBFbGVtZW50IElEIG9mIHRoZSBvdXRwdXQgZGlzcGxheS4KICogQHJldHVybiB7IUl0ZXJhYmxlPCFPYmplY3Q+fSBJdGVyYWJsZSBvZiBuZXh0IHN0ZXBzLgogKi8KZnVuY3Rpb24qIHVwbG9hZEZpbGVzU3RlcChpbnB1dElkLCBvdXRwdXRJZCkgewogIGNvbnN0IGlucHV0RWxlbWVudCA9IGRvY3VtZW50LmdldEVsZW1lbnRCeUlkKGlucHV0SWQpOwogIGlucHV0RWxlbWVudC5kaXNhYmxlZCA9IGZhbHNlOwoKICBjb25zdCBvdXRwdXRFbGVtZW50ID0gZG9jdW1lbnQuZ2V0RWxlbWVudEJ5SWQob3V0cHV0SWQpOwogIG91dHB1dEVsZW1lbnQuaW5uZXJIVE1MID0gJyc7CgogIGNvbnN0IHBpY2tlZFByb21pc2UgPSBuZXcgUHJvbWlzZSgocmVzb2x2ZSkgPT4gewogICAgaW5wdXRFbGVtZW50LmFkZEV2ZW50TGlzdGVuZXIoJ2NoYW5nZScsIChlKSA9PiB7CiAgICAgIHJlc29sdmUoZS50YXJnZXQuZmlsZXMpOwogICAgfSk7CiAgfSk7CgogIGNvbnN0IGNhbmNlbCA9IGRvY3VtZW50LmNyZWF0ZUVsZW1lbnQoJ2J1dHRvbicpOwogIGlucHV0RWxlbWVudC5wYXJlbnRFbGVtZW50LmFwcGVuZENoaWxkKGNhbmNlbCk7CiAgY2FuY2VsLnRleHRDb250ZW50ID0gJ0NhbmNlbCB1cGxvYWQnOwogIGNvbnN0IGNhbmNlbFByb21pc2UgPSBuZXcgUHJvbWlzZSgocmVzb2x2ZSkgPT4gewogICAgY2FuY2VsLm9uY2xpY2sgPSAoKSA9PiB7CiAgICAgIHJlc29sdmUobnVsbCk7CiAgICB9OwogIH0pOwoKICAvLyBXYWl0IGZvciB0aGUgdXNlciB0byBwaWNrIHRoZSBmaWxlcy4KICBjb25zdCBmaWxlcyA9IHlpZWxkIHsKICAgIHByb21pc2U6IFByb21pc2UucmFjZShbcGlja2VkUHJvbWlzZSwgY2FuY2VsUHJvbWlzZV0pLAogICAgcmVzcG9uc2U6IHsKICAgICAgYWN0aW9uOiAnc3RhcnRpbmcnLAogICAgfQogIH07CgogIGNhbmNlbC5yZW1vdmUoKTsKCiAgLy8gRGlzYWJsZSB0aGUgaW5wdXQgZWxlbWVudCBzaW5jZSBmdXJ0aGVyIHBpY2tzIGFyZSBub3QgYWxsb3dlZC4KICBpbnB1dEVsZW1lbnQuZGlzYWJsZWQgPSB0cnVlOwoKICBpZiAoIWZpbGVzKSB7CiAgICByZXR1cm4gewogICAgICByZXNwb25zZTogewogICAgICAgIGFjdGlvbjogJ2NvbXBsZXRlJywKICAgICAgfQogICAgfTsKICB9CgogIGZvciAoY29uc3QgZmlsZSBvZiBmaWxlcykgewogICAgY29uc3QgbGkgPSBkb2N1bWVudC5jcmVhdGVFbGVtZW50KCdsaScpOwogICAgbGkuYXBwZW5kKHNwYW4oZmlsZS5uYW1lLCB7Zm9udFdlaWdodDogJ2JvbGQnfSkpOwogICAgbGkuYXBwZW5kKHNwYW4oCiAgICAgICAgYCgke2ZpbGUudHlwZSB8fCAnbi9hJ30pIC0gJHtmaWxlLnNpemV9IGJ5dGVzLCBgICsKICAgICAgICBgbGFzdCBtb2RpZmllZDogJHsKICAgICAgICAgICAgZmlsZS5sYXN0TW9kaWZpZWREYXRlID8gZmlsZS5sYXN0TW9kaWZpZWREYXRlLnRvTG9jYWxlRGF0ZVN0cmluZygpIDoKICAgICAgICAgICAgICAgICAgICAgICAgICAgICAgICAgICAgJ24vYSd9IC0gYCkpOwogICAgY29uc3QgcGVyY2VudCA9IHNwYW4oJzAlIGRvbmUnKTsKICAgIGxpLmFwcGVuZENoaWxkKHBlcmNlbnQpOwoKICAgIG91dHB1dEVsZW1lbnQuYXBwZW5kQ2hpbGQobGkpOwoKICAgIGNvbnN0IGZpbGVEYXRhUHJvbWlzZSA9IG5ldyBQcm9taXNlKChyZXNvbHZlKSA9PiB7CiAgICAgIGNvbnN0IHJlYWRlciA9IG5ldyBGaWxlUmVhZGVyKCk7CiAgICAgIHJlYWRlci5vbmxvYWQgPSAoZSkgPT4gewogICAgICAgIHJlc29sdmUoZS50YXJnZXQucmVzdWx0KTsKICAgICAgfTsKICAgICAgcmVhZGVyLnJlYWRBc0FycmF5QnVmZmVyKGZpbGUpOwogICAgfSk7CiAgICAvLyBXYWl0IGZvciB0aGUgZGF0YSB0byBiZSByZWFkeS4KICAgIGxldCBmaWxlRGF0YSA9IHlpZWxkIHsKICAgICAgcHJvbWlzZTogZmlsZURhdGFQcm9taXNlLAogICAgICByZXNwb25zZTogewogICAgICAgIGFjdGlvbjogJ2NvbnRpbnVlJywKICAgICAgfQogICAgfTsKCiAgICAvLyBVc2UgYSBjaHVua2VkIHNlbmRpbmcgdG8gYXZvaWQgbWVzc2FnZSBzaXplIGxpbWl0cy4gU2VlIGIvNjIxMTU2NjAuCiAgICBsZXQgcG9zaXRpb24gPSAwOwogICAgd2hpbGUgKHBvc2l0aW9uIDwgZmlsZURhdGEuYnl0ZUxlbmd0aCkgewogICAgICBjb25zdCBsZW5ndGggPSBNYXRoLm1pbihmaWxlRGF0YS5ieXRlTGVuZ3RoIC0gcG9zaXRpb24sIE1BWF9QQVlMT0FEX1NJWkUpOwogICAgICBjb25zdCBjaHVuayA9IG5ldyBVaW50OEFycmF5KGZpbGVEYXRhLCBwb3NpdGlvbiwgbGVuZ3RoKTsKICAgICAgcG9zaXRpb24gKz0gbGVuZ3RoOwoKICAgICAgY29uc3QgYmFzZTY0ID0gYnRvYShTdHJpbmcuZnJvbUNoYXJDb2RlLmFwcGx5KG51bGwsIGNodW5rKSk7CiAgICAgIHlpZWxkIHsKICAgICAgICByZXNwb25zZTogewogICAgICAgICAgYWN0aW9uOiAnYXBwZW5kJywKICAgICAgICAgIGZpbGU6IGZpbGUubmFtZSwKICAgICAgICAgIGRhdGE6IGJhc2U2NCwKICAgICAgICB9LAogICAgICB9OwogICAgICBwZXJjZW50LnRleHRDb250ZW50ID0KICAgICAgICAgIGAke01hdGgucm91bmQoKHBvc2l0aW9uIC8gZmlsZURhdGEuYnl0ZUxlbmd0aCkgKiAxMDApfSUgZG9uZWA7CiAgICB9CiAgfQoKICAvLyBBbGwgZG9uZS4KICB5aWVsZCB7CiAgICByZXNwb25zZTogewogICAgICBhY3Rpb246ICdjb21wbGV0ZScsCiAgICB9CiAgfTsKfQoKc2NvcGUuZ29vZ2xlID0gc2NvcGUuZ29vZ2xlIHx8IHt9OwpzY29wZS5nb29nbGUuY29sYWIgPSBzY29wZS5nb29nbGUuY29sYWIgfHwge307CnNjb3BlLmdvb2dsZS5jb2xhYi5fZmlsZXMgPSB7CiAgX3VwbG9hZEZpbGVzLAogIF91cGxvYWRGaWxlc0NvbnRpbnVlLAp9Owp9KShzZWxmKTsK",
              "ok": true,
              "headers": [
                [
                  "content-type",
                  "application/javascript"
                ]
              ],
              "status": 200,
              "status_text": ""
            }
          },
          "base_uri": "https://localhost:8080/",
          "height": 72
        },
        "outputId": "e9499d17-ea1c-4632-efb3-7f583dfcea56"
      },
      "source": [
        "## Loading in data\n",
        "from google.colab import files\n",
        "uploaded = files.upload()"
      ],
      "execution_count": 30,
      "outputs": [
        {
          "output_type": "display_data",
          "data": {
            "text/html": [
              "\n",
              "     <input type=\"file\" id=\"files-f99769c5-558b-4180-a987-ff3a7de65a26\" name=\"files[]\" multiple disabled\n",
              "        style=\"border:none\" />\n",
              "     <output id=\"result-f99769c5-558b-4180-a987-ff3a7de65a26\">\n",
              "      Upload widget is only available when the cell has been executed in the\n",
              "      current browser session. Please rerun this cell to enable.\n",
              "      </output>\n",
              "      <script src=\"/nbextensions/google.colab/files.js\"></script> "
            ],
            "text/plain": [
              "<IPython.core.display.HTML object>"
            ]
          },
          "metadata": {
            "tags": []
          }
        },
        {
          "output_type": "stream",
          "text": [
            "Saving 5184doe.csv to 5184doe (1).csv\n"
          ],
          "name": "stdout"
        }
      ]
    },
    {
      "cell_type": "markdown",
      "metadata": {
        "id": "MoFRr3ZaT-pk",
        "colab_type": "text"
      },
      "source": [
        "\n",
        "In the previous step, we loaded the file from the drive into the colab workspace, and now we transform it into a data type called a \"dataframe\" which is easy to think of essentially as an excel table, with headers and all. The library that handles the dataframe data type is pandas, shortened to \"pd\" in the imports. The variable that stores this data is \"df\".\n",
        "\n",
        "The step of loading in the data is so simple because we are getting a dataset which is already very well formated. Whenever we get the actual dataset a lot will have to be done to pre-process it and create a dataset which is usable by the model."
      ]
    },
    {
      "cell_type": "code",
      "metadata": {
        "id": "jniQixp8UmjL",
        "colab_type": "code",
        "colab": {
          "base_uri": "https://localhost:8080/",
          "height": 419
        },
        "outputId": "2c2fadfc-4877-4d18-ac11-348a5fba6720"
      },
      "source": [
        "## load data into variable\n",
        "df = pd.read_csv('5184doe.csv')\n",
        "\n",
        "# display the dataframe variable\n",
        "df"
      ],
      "execution_count": 39,
      "outputs": [
        {
          "output_type": "execute_result",
          "data": {
            "text/html": [
              "<div>\n",
              "<style scoped>\n",
              "    .dataframe tbody tr th:only-of-type {\n",
              "        vertical-align: middle;\n",
              "    }\n",
              "\n",
              "    .dataframe tbody tr th {\n",
              "        vertical-align: top;\n",
              "    }\n",
              "\n",
              "    .dataframe thead th {\n",
              "        text-align: right;\n",
              "    }\n",
              "</style>\n",
              "<table border=\"1\" class=\"dataframe\">\n",
              "  <thead>\n",
              "    <tr style=\"text-align: right;\">\n",
              "      <th></th>\n",
              "      <th>Sample</th>\n",
              "      <th>ecc</th>\n",
              "      <th>N</th>\n",
              "      <th>gammaG</th>\n",
              "      <th>Esoil</th>\n",
              "      <th>Econc</th>\n",
              "      <th>Dbot</th>\n",
              "      <th>H1</th>\n",
              "      <th>H2</th>\n",
              "      <th>H3</th>\n",
              "      <th>Mr_t</th>\n",
              "      <th>Mt_t</th>\n",
              "      <th>Mr_c</th>\n",
              "      <th>Mt_c</th>\n",
              "    </tr>\n",
              "  </thead>\n",
              "  <tbody>\n",
              "    <tr>\n",
              "      <th>0</th>\n",
              "      <td>1</td>\n",
              "      <td>0</td>\n",
              "      <td>2000</td>\n",
              "      <td>0.9</td>\n",
              "      <td>25</td>\n",
              "      <td>30000</td>\n",
              "      <td>17</td>\n",
              "      <td>0.8</td>\n",
              "      <td>1.0</td>\n",
              "      <td>0.8</td>\n",
              "      <td>0.082100</td>\n",
              "      <td>0.055648</td>\n",
              "      <td>0.082100</td>\n",
              "      <td>0.055648</td>\n",
              "    </tr>\n",
              "    <tr>\n",
              "      <th>1</th>\n",
              "      <td>2</td>\n",
              "      <td>10</td>\n",
              "      <td>2000</td>\n",
              "      <td>0.9</td>\n",
              "      <td>25</td>\n",
              "      <td>30000</td>\n",
              "      <td>17</td>\n",
              "      <td>0.8</td>\n",
              "      <td>1.0</td>\n",
              "      <td>0.8</td>\n",
              "      <td>-0.597084</td>\n",
              "      <td>-0.233470</td>\n",
              "      <td>1.160648</td>\n",
              "      <td>0.605016</td>\n",
              "    </tr>\n",
              "    <tr>\n",
              "      <th>2</th>\n",
              "      <td>3</td>\n",
              "      <td>18</td>\n",
              "      <td>2000</td>\n",
              "      <td>0.9</td>\n",
              "      <td>25</td>\n",
              "      <td>30000</td>\n",
              "      <td>17</td>\n",
              "      <td>0.8</td>\n",
              "      <td>1.0</td>\n",
              "      <td>0.8</td>\n",
              "      <td>-1.094196</td>\n",
              "      <td>-0.566130</td>\n",
              "      <td>1.908188</td>\n",
              "      <td>0.947770</td>\n",
              "    </tr>\n",
              "    <tr>\n",
              "      <th>3</th>\n",
              "      <td>4</td>\n",
              "      <td>26</td>\n",
              "      <td>2000</td>\n",
              "      <td>0.9</td>\n",
              "      <td>25</td>\n",
              "      <td>30000</td>\n",
              "      <td>17</td>\n",
              "      <td>0.8</td>\n",
              "      <td>1.0</td>\n",
              "      <td>0.8</td>\n",
              "      <td>-1.416485</td>\n",
              "      <td>-0.865039</td>\n",
              "      <td>2.844706</td>\n",
              "      <td>1.310545</td>\n",
              "    </tr>\n",
              "    <tr>\n",
              "      <th>4</th>\n",
              "      <td>5</td>\n",
              "      <td>0</td>\n",
              "      <td>2000</td>\n",
              "      <td>0.9</td>\n",
              "      <td>25</td>\n",
              "      <td>37000</td>\n",
              "      <td>17</td>\n",
              "      <td>0.8</td>\n",
              "      <td>1.0</td>\n",
              "      <td>0.8</td>\n",
              "      <td>0.079570</td>\n",
              "      <td>0.054213</td>\n",
              "      <td>0.079570</td>\n",
              "      <td>0.054213</td>\n",
              "    </tr>\n",
              "    <tr>\n",
              "      <th>...</th>\n",
              "      <td>...</td>\n",
              "      <td>...</td>\n",
              "      <td>...</td>\n",
              "      <td>...</td>\n",
              "      <td>...</td>\n",
              "      <td>...</td>\n",
              "      <td>...</td>\n",
              "      <td>...</td>\n",
              "      <td>...</td>\n",
              "      <td>...</td>\n",
              "      <td>...</td>\n",
              "      <td>...</td>\n",
              "      <td>...</td>\n",
              "      <td>...</td>\n",
              "    </tr>\n",
              "    <tr>\n",
              "      <th>5179</th>\n",
              "      <td>5180</td>\n",
              "      <td>26</td>\n",
              "      <td>5000</td>\n",
              "      <td>1.1</td>\n",
              "      <td>75</td>\n",
              "      <td>30000</td>\n",
              "      <td>23</td>\n",
              "      <td>1.6</td>\n",
              "      <td>2.0</td>\n",
              "      <td>1.6</td>\n",
              "      <td>-6.027412</td>\n",
              "      <td>-2.866107</td>\n",
              "      <td>6.471047</td>\n",
              "      <td>4.499262</td>\n",
              "    </tr>\n",
              "    <tr>\n",
              "      <th>5180</th>\n",
              "      <td>5181</td>\n",
              "      <td>0</td>\n",
              "      <td>5000</td>\n",
              "      <td>1.1</td>\n",
              "      <td>75</td>\n",
              "      <td>37000</td>\n",
              "      <td>23</td>\n",
              "      <td>1.6</td>\n",
              "      <td>2.0</td>\n",
              "      <td>1.6</td>\n",
              "      <td>0.143146</td>\n",
              "      <td>0.108935</td>\n",
              "      <td>0.143146</td>\n",
              "      <td>0.108935</td>\n",
              "    </tr>\n",
              "    <tr>\n",
              "      <th>5181</th>\n",
              "      <td>5182</td>\n",
              "      <td>10</td>\n",
              "      <td>5000</td>\n",
              "      <td>1.1</td>\n",
              "      <td>75</td>\n",
              "      <td>37000</td>\n",
              "      <td>23</td>\n",
              "      <td>1.6</td>\n",
              "      <td>2.0</td>\n",
              "      <td>1.6</td>\n",
              "      <td>-2.671362</td>\n",
              "      <td>-0.561849</td>\n",
              "      <td>1.702752</td>\n",
              "      <td>2.465506</td>\n",
              "    </tr>\n",
              "    <tr>\n",
              "      <th>5182</th>\n",
              "      <td>5183</td>\n",
              "      <td>18</td>\n",
              "      <td>5000</td>\n",
              "      <td>1.1</td>\n",
              "      <td>75</td>\n",
              "      <td>37000</td>\n",
              "      <td>23</td>\n",
              "      <td>1.6</td>\n",
              "      <td>2.0</td>\n",
              "      <td>1.6</td>\n",
              "      <td>-4.408298</td>\n",
              "      <td>-1.696514</td>\n",
              "      <td>4.021527</td>\n",
              "      <td>3.522614</td>\n",
              "    </tr>\n",
              "    <tr>\n",
              "      <th>5183</th>\n",
              "      <td>5184</td>\n",
              "      <td>26</td>\n",
              "      <td>5000</td>\n",
              "      <td>1.1</td>\n",
              "      <td>75</td>\n",
              "      <td>37000</td>\n",
              "      <td>23</td>\n",
              "      <td>1.6</td>\n",
              "      <td>2.0</td>\n",
              "      <td>1.6</td>\n",
              "      <td>-6.023094</td>\n",
              "      <td>-2.859481</td>\n",
              "      <td>6.345367</td>\n",
              "      <td>4.585227</td>\n",
              "    </tr>\n",
              "  </tbody>\n",
              "</table>\n",
              "<p>5184 rows × 14 columns</p>\n",
              "</div>"
            ],
            "text/plain": [
              "      Sample  ecc     N  gammaG  ...      Mr_t      Mt_t      Mr_c      Mt_c\n",
              "0          1    0  2000     0.9  ...  0.082100  0.055648  0.082100  0.055648\n",
              "1          2   10  2000     0.9  ... -0.597084 -0.233470  1.160648  0.605016\n",
              "2          3   18  2000     0.9  ... -1.094196 -0.566130  1.908188  0.947770\n",
              "3          4   26  2000     0.9  ... -1.416485 -0.865039  2.844706  1.310545\n",
              "4          5    0  2000     0.9  ...  0.079570  0.054213  0.079570  0.054213\n",
              "...      ...  ...   ...     ...  ...       ...       ...       ...       ...\n",
              "5179    5180   26  5000     1.1  ... -6.027412 -2.866107  6.471047  4.499262\n",
              "5180    5181    0  5000     1.1  ...  0.143146  0.108935  0.143146  0.108935\n",
              "5181    5182   10  5000     1.1  ... -2.671362 -0.561849  1.702752  2.465506\n",
              "5182    5183   18  5000     1.1  ... -4.408298 -1.696514  4.021527  3.522614\n",
              "5183    5184   26  5000     1.1  ... -6.023094 -2.859481  6.345367  4.585227\n",
              "\n",
              "[5184 rows x 14 columns]"
            ]
          },
          "metadata": {
            "tags": []
          },
          "execution_count": 39
        }
      ]
    },
    {
      "cell_type": "markdown",
      "metadata": {
        "id": "egNp-zJiXUT-",
        "colab_type": "text"
      },
      "source": [
        "The headers aren't very descriptive, but reading the dataset description:\n",
        "- load parameters: ecc, N, gammaG.\n",
        "- material parameters: Esoil, Econc.\n",
        "- geometry parameters: Dbot, H1, H2, H3.\n",
        "- stress related results: Mrt, Mtt, Mrc, Mtc.\n",
        "\n",
        "Knowing this, we can decide on what is going to be used for the input and what is going to be used for the output. \n",
        "\n",
        "It is desirable to keep the prototype as close as possible to the final model. The final model should have this behaviour (on prediction):\n",
        "\n",
        "$$ \n",
        "f: \\text{(strain gauge voltages)} \\mapsto \\text{(wheel hub loads)}\n",
        "$$\n",
        "Therefore the closest that can be achieved with the prototype for this dataset being naive and not trying to figure out how to exclude geometry parameters is to simply include the material and geometry parameters in the model, such that it behaves like this\n",
        "$$ \n",
        "f: (E_{soil}, E_{conc}, D_{bot}, H_1, H_2, H_3, M_{rt}, M_{tt}, M_{rc}, M_{tc}) \\mapsto (e_{cc}, N, \\gamma_g)\n",
        "$$"
      ]
    },
    {
      "cell_type": "markdown",
      "metadata": {
        "id": "KIdUubezC-HE",
        "colab_type": "text"
      },
      "source": [
        "## Data investigation and split\n",
        "It is good to investigate the dataset a little to better understand what type of data is in it, and then split it into the input and output of the model"
      ]
    },
    {
      "cell_type": "code",
      "metadata": {
        "id": "_U5knm-oahdk",
        "colab_type": "code",
        "colab": {
          "base_uri": "https://localhost:8080/",
          "height": 374
        },
        "outputId": "1cde5f1b-ea78-4a5e-97e7-2a672dc72b15"
      },
      "source": [
        "# showing data types and number of empty entries\n",
        "df.info()"
      ],
      "execution_count": null,
      "outputs": [
        {
          "output_type": "stream",
          "text": [
            "<class 'pandas.core.frame.DataFrame'>\n",
            "RangeIndex: 5184 entries, 0 to 5183\n",
            "Data columns (total 14 columns):\n",
            " #   Column  Non-Null Count  Dtype  \n",
            "---  ------  --------------  -----  \n",
            " 0   Sample  5184 non-null   int64  \n",
            " 1   ecc     5184 non-null   int64  \n",
            " 2   N       5184 non-null   int64  \n",
            " 3   gammaG  5184 non-null   float64\n",
            " 4   Esoil   5184 non-null   int64  \n",
            " 5   Econc   5184 non-null   int64  \n",
            " 6   Dbot    5184 non-null   int64  \n",
            " 7   H1      5184 non-null   float64\n",
            " 8   H2      5184 non-null   float64\n",
            " 9   H3      5184 non-null   float64\n",
            " 10  Mr_t    5184 non-null   float64\n",
            " 11  Mt_t    5184 non-null   float64\n",
            " 12  Mr_c    5184 non-null   float64\n",
            " 13  Mt_c    5184 non-null   float64\n",
            "dtypes: float64(8), int64(6)\n",
            "memory usage: 567.1 KB\n"
          ],
          "name": "stdout"
        }
      ]
    },
    {
      "cell_type": "code",
      "metadata": {
        "id": "uZxuz1F9CyNQ",
        "colab_type": "code",
        "colab": {
          "base_uri": "https://localhost:8080/",
          "height": 297
        },
        "outputId": "d6767b4b-d6b7-456d-83d5-1421f96ff7a9"
      },
      "source": [
        "## showing general statistics for the dataset parameters\n",
        "df.describe()"
      ],
      "execution_count": null,
      "outputs": [
        {
          "output_type": "execute_result",
          "data": {
            "text/html": [
              "<div>\n",
              "<style scoped>\n",
              "    .dataframe tbody tr th:only-of-type {\n",
              "        vertical-align: middle;\n",
              "    }\n",
              "\n",
              "    .dataframe tbody tr th {\n",
              "        vertical-align: top;\n",
              "    }\n",
              "\n",
              "    .dataframe thead th {\n",
              "        text-align: right;\n",
              "    }\n",
              "</style>\n",
              "<table border=\"1\" class=\"dataframe\">\n",
              "  <thead>\n",
              "    <tr style=\"text-align: right;\">\n",
              "      <th></th>\n",
              "      <th>Sample</th>\n",
              "      <th>ecc</th>\n",
              "      <th>N</th>\n",
              "      <th>gammaG</th>\n",
              "      <th>Esoil</th>\n",
              "      <th>Econc</th>\n",
              "      <th>Dbot</th>\n",
              "      <th>H1</th>\n",
              "      <th>H2</th>\n",
              "      <th>H3</th>\n",
              "      <th>Mr_t</th>\n",
              "      <th>Mt_t</th>\n",
              "      <th>Mr_c</th>\n",
              "      <th>Mt_c</th>\n",
              "    </tr>\n",
              "  </thead>\n",
              "  <tbody>\n",
              "    <tr>\n",
              "      <th>count</th>\n",
              "      <td>5184.000000</td>\n",
              "      <td>5184.000000</td>\n",
              "      <td>5184.000000</td>\n",
              "      <td>5184.00000</td>\n",
              "      <td>5184.000000</td>\n",
              "      <td>5184.000000</td>\n",
              "      <td>5184.000000</td>\n",
              "      <td>5184.00000</td>\n",
              "      <td>5184.000000</td>\n",
              "      <td>5184.00000</td>\n",
              "      <td>5184.000000</td>\n",
              "      <td>5184.000000</td>\n",
              "      <td>5184.000000</td>\n",
              "      <td>5184.000000</td>\n",
              "    </tr>\n",
              "    <tr>\n",
              "      <th>mean</th>\n",
              "      <td>2592.500000</td>\n",
              "      <td>13.500000</td>\n",
              "      <td>3500.000000</td>\n",
              "      <td>1.00000</td>\n",
              "      <td>50.000000</td>\n",
              "      <td>33500.000000</td>\n",
              "      <td>20.000000</td>\n",
              "      <td>1.20000</td>\n",
              "      <td>1.500000</td>\n",
              "      <td>1.20000</td>\n",
              "      <td>-1.629734</td>\n",
              "      <td>-0.810779</td>\n",
              "      <td>2.650433</td>\n",
              "      <td>1.518741</td>\n",
              "    </tr>\n",
              "    <tr>\n",
              "      <th>std</th>\n",
              "      <td>1496.636228</td>\n",
              "      <td>9.631609</td>\n",
              "      <td>1500.144697</td>\n",
              "      <td>0.10001</td>\n",
              "      <td>25.002412</td>\n",
              "      <td>3500.337626</td>\n",
              "      <td>2.449726</td>\n",
              "      <td>0.32663</td>\n",
              "      <td>0.408288</td>\n",
              "      <td>0.32663</td>\n",
              "      <td>1.426607</td>\n",
              "      <td>0.859657</td>\n",
              "      <td>2.475025</td>\n",
              "      <td>1.226075</td>\n",
              "    </tr>\n",
              "    <tr>\n",
              "      <th>min</th>\n",
              "      <td>1.000000</td>\n",
              "      <td>0.000000</td>\n",
              "      <td>2000.000000</td>\n",
              "      <td>0.90000</td>\n",
              "      <td>25.000000</td>\n",
              "      <td>30000.000000</td>\n",
              "      <td>17.000000</td>\n",
              "      <td>0.80000</td>\n",
              "      <td>1.000000</td>\n",
              "      <td>0.80000</td>\n",
              "      <td>-6.027412</td>\n",
              "      <td>-2.968574</td>\n",
              "      <td>0.024414</td>\n",
              "      <td>0.014080</td>\n",
              "    </tr>\n",
              "    <tr>\n",
              "      <th>25%</th>\n",
              "      <td>1296.750000</td>\n",
              "      <td>7.500000</td>\n",
              "      <td>2000.000000</td>\n",
              "      <td>0.90000</td>\n",
              "      <td>25.000000</td>\n",
              "      <td>30000.000000</td>\n",
              "      <td>17.000000</td>\n",
              "      <td>0.80000</td>\n",
              "      <td>1.000000</td>\n",
              "      <td>0.80000</td>\n",
              "      <td>-2.402849</td>\n",
              "      <td>-1.191169</td>\n",
              "      <td>0.251651</td>\n",
              "      <td>0.458440</td>\n",
              "    </tr>\n",
              "    <tr>\n",
              "      <th>50%</th>\n",
              "      <td>2592.500000</td>\n",
              "      <td>14.000000</td>\n",
              "      <td>3500.000000</td>\n",
              "      <td>1.00000</td>\n",
              "      <td>50.000000</td>\n",
              "      <td>33500.000000</td>\n",
              "      <td>20.000000</td>\n",
              "      <td>1.20000</td>\n",
              "      <td>1.500000</td>\n",
              "      <td>1.20000</td>\n",
              "      <td>-1.554450</td>\n",
              "      <td>-0.620024</td>\n",
              "      <td>2.138881</td>\n",
              "      <td>1.349318</td>\n",
              "    </tr>\n",
              "    <tr>\n",
              "      <th>75%</th>\n",
              "      <td>3888.250000</td>\n",
              "      <td>20.000000</td>\n",
              "      <td>5000.000000</td>\n",
              "      <td>1.10000</td>\n",
              "      <td>75.000000</td>\n",
              "      <td>37000.000000</td>\n",
              "      <td>23.000000</td>\n",
              "      <td>1.60000</td>\n",
              "      <td>2.000000</td>\n",
              "      <td>1.60000</td>\n",
              "      <td>-0.176328</td>\n",
              "      <td>0.018693</td>\n",
              "      <td>3.716968</td>\n",
              "      <td>2.413945</td>\n",
              "    </tr>\n",
              "    <tr>\n",
              "      <th>max</th>\n",
              "      <td>5184.000000</td>\n",
              "      <td>26.000000</td>\n",
              "      <td>5000.000000</td>\n",
              "      <td>1.10000</td>\n",
              "      <td>75.000000</td>\n",
              "      <td>37000.000000</td>\n",
              "      <td>23.000000</td>\n",
              "      <td>1.60000</td>\n",
              "      <td>2.000000</td>\n",
              "      <td>1.60000</td>\n",
              "      <td>0.251917</td>\n",
              "      <td>0.201895</td>\n",
              "      <td>9.408445</td>\n",
              "      <td>4.585227</td>\n",
              "    </tr>\n",
              "  </tbody>\n",
              "</table>\n",
              "</div>"
            ],
            "text/plain": [
              "            Sample          ecc  ...         Mr_c         Mt_c\n",
              "count  5184.000000  5184.000000  ...  5184.000000  5184.000000\n",
              "mean   2592.500000    13.500000  ...     2.650433     1.518741\n",
              "std    1496.636228     9.631609  ...     2.475025     1.226075\n",
              "min       1.000000     0.000000  ...     0.024414     0.014080\n",
              "25%    1296.750000     7.500000  ...     0.251651     0.458440\n",
              "50%    2592.500000    14.000000  ...     2.138881     1.349318\n",
              "75%    3888.250000    20.000000  ...     3.716968     2.413945\n",
              "max    5184.000000    26.000000  ...     9.408445     4.585227\n",
              "\n",
              "[8 rows x 14 columns]"
            ]
          },
          "metadata": {
            "tags": []
          },
          "execution_count": 8
        }
      ]
    },
    {
      "cell_type": "markdown",
      "metadata": {
        "id": "QUwKM51iCSVo",
        "colab_type": "text"
      },
      "source": [
        "Now we split the data into two datasets. It is common practice to call the inputs of a machine learning model \"X\", and the target/output of the model \"y\", however for the sake of making the model more readable in the future, I'm going to use \"voltages\" for the inputs and \"forces\" for the outputs/targets, even though the dataset we're using to develop the prototype has nothing to do with voltages."
      ]
    },
    {
      "cell_type": "code",
      "metadata": {
        "id": "mmJ0FE5OXgSP",
        "colab_type": "code",
        "colab": {
          "base_uri": "https://localhost:8080/",
          "height": 419
        },
        "outputId": "f9676c6d-c5bd-4f3d-9c15-e6857d06f1c8"
      },
      "source": [
        "# splitting dataset into input and output\n",
        "voltages, forces = df.iloc[:,4:], df.iloc[:,1:4] #voltages are all rows of columns after the fourth, \n",
        "                                                 #and forces are all rows of columns before the fourth except for the first  \n",
        "\n",
        "# displaying voltages for a sanity check that we got the correct columns\n",
        "voltages"
      ],
      "execution_count": 4,
      "outputs": [
        {
          "output_type": "execute_result",
          "data": {
            "text/html": [
              "<div>\n",
              "<style scoped>\n",
              "    .dataframe tbody tr th:only-of-type {\n",
              "        vertical-align: middle;\n",
              "    }\n",
              "\n",
              "    .dataframe tbody tr th {\n",
              "        vertical-align: top;\n",
              "    }\n",
              "\n",
              "    .dataframe thead th {\n",
              "        text-align: right;\n",
              "    }\n",
              "</style>\n",
              "<table border=\"1\" class=\"dataframe\">\n",
              "  <thead>\n",
              "    <tr style=\"text-align: right;\">\n",
              "      <th></th>\n",
              "      <th>Esoil</th>\n",
              "      <th>Econc</th>\n",
              "      <th>Dbot</th>\n",
              "      <th>H1</th>\n",
              "      <th>H2</th>\n",
              "      <th>H3</th>\n",
              "      <th>Mr_t</th>\n",
              "      <th>Mt_t</th>\n",
              "      <th>Mr_c</th>\n",
              "      <th>Mt_c</th>\n",
              "    </tr>\n",
              "  </thead>\n",
              "  <tbody>\n",
              "    <tr>\n",
              "      <th>0</th>\n",
              "      <td>25</td>\n",
              "      <td>30000</td>\n",
              "      <td>17</td>\n",
              "      <td>0.8</td>\n",
              "      <td>1.0</td>\n",
              "      <td>0.8</td>\n",
              "      <td>0.082100</td>\n",
              "      <td>0.055648</td>\n",
              "      <td>0.082100</td>\n",
              "      <td>0.055648</td>\n",
              "    </tr>\n",
              "    <tr>\n",
              "      <th>1</th>\n",
              "      <td>25</td>\n",
              "      <td>30000</td>\n",
              "      <td>17</td>\n",
              "      <td>0.8</td>\n",
              "      <td>1.0</td>\n",
              "      <td>0.8</td>\n",
              "      <td>-0.597084</td>\n",
              "      <td>-0.233470</td>\n",
              "      <td>1.160648</td>\n",
              "      <td>0.605016</td>\n",
              "    </tr>\n",
              "    <tr>\n",
              "      <th>2</th>\n",
              "      <td>25</td>\n",
              "      <td>30000</td>\n",
              "      <td>17</td>\n",
              "      <td>0.8</td>\n",
              "      <td>1.0</td>\n",
              "      <td>0.8</td>\n",
              "      <td>-1.094196</td>\n",
              "      <td>-0.566130</td>\n",
              "      <td>1.908188</td>\n",
              "      <td>0.947770</td>\n",
              "    </tr>\n",
              "    <tr>\n",
              "      <th>3</th>\n",
              "      <td>25</td>\n",
              "      <td>30000</td>\n",
              "      <td>17</td>\n",
              "      <td>0.8</td>\n",
              "      <td>1.0</td>\n",
              "      <td>0.8</td>\n",
              "      <td>-1.416485</td>\n",
              "      <td>-0.865039</td>\n",
              "      <td>2.844706</td>\n",
              "      <td>1.310545</td>\n",
              "    </tr>\n",
              "    <tr>\n",
              "      <th>4</th>\n",
              "      <td>25</td>\n",
              "      <td>37000</td>\n",
              "      <td>17</td>\n",
              "      <td>0.8</td>\n",
              "      <td>1.0</td>\n",
              "      <td>0.8</td>\n",
              "      <td>0.079570</td>\n",
              "      <td>0.054213</td>\n",
              "      <td>0.079570</td>\n",
              "      <td>0.054213</td>\n",
              "    </tr>\n",
              "    <tr>\n",
              "      <th>...</th>\n",
              "      <td>...</td>\n",
              "      <td>...</td>\n",
              "      <td>...</td>\n",
              "      <td>...</td>\n",
              "      <td>...</td>\n",
              "      <td>...</td>\n",
              "      <td>...</td>\n",
              "      <td>...</td>\n",
              "      <td>...</td>\n",
              "      <td>...</td>\n",
              "    </tr>\n",
              "    <tr>\n",
              "      <th>5179</th>\n",
              "      <td>75</td>\n",
              "      <td>30000</td>\n",
              "      <td>23</td>\n",
              "      <td>1.6</td>\n",
              "      <td>2.0</td>\n",
              "      <td>1.6</td>\n",
              "      <td>-6.027412</td>\n",
              "      <td>-2.866107</td>\n",
              "      <td>6.471047</td>\n",
              "      <td>4.499262</td>\n",
              "    </tr>\n",
              "    <tr>\n",
              "      <th>5180</th>\n",
              "      <td>75</td>\n",
              "      <td>37000</td>\n",
              "      <td>23</td>\n",
              "      <td>1.6</td>\n",
              "      <td>2.0</td>\n",
              "      <td>1.6</td>\n",
              "      <td>0.143146</td>\n",
              "      <td>0.108935</td>\n",
              "      <td>0.143146</td>\n",
              "      <td>0.108935</td>\n",
              "    </tr>\n",
              "    <tr>\n",
              "      <th>5181</th>\n",
              "      <td>75</td>\n",
              "      <td>37000</td>\n",
              "      <td>23</td>\n",
              "      <td>1.6</td>\n",
              "      <td>2.0</td>\n",
              "      <td>1.6</td>\n",
              "      <td>-2.671362</td>\n",
              "      <td>-0.561849</td>\n",
              "      <td>1.702752</td>\n",
              "      <td>2.465506</td>\n",
              "    </tr>\n",
              "    <tr>\n",
              "      <th>5182</th>\n",
              "      <td>75</td>\n",
              "      <td>37000</td>\n",
              "      <td>23</td>\n",
              "      <td>1.6</td>\n",
              "      <td>2.0</td>\n",
              "      <td>1.6</td>\n",
              "      <td>-4.408298</td>\n",
              "      <td>-1.696514</td>\n",
              "      <td>4.021527</td>\n",
              "      <td>3.522614</td>\n",
              "    </tr>\n",
              "    <tr>\n",
              "      <th>5183</th>\n",
              "      <td>75</td>\n",
              "      <td>37000</td>\n",
              "      <td>23</td>\n",
              "      <td>1.6</td>\n",
              "      <td>2.0</td>\n",
              "      <td>1.6</td>\n",
              "      <td>-6.023094</td>\n",
              "      <td>-2.859481</td>\n",
              "      <td>6.345367</td>\n",
              "      <td>4.585227</td>\n",
              "    </tr>\n",
              "  </tbody>\n",
              "</table>\n",
              "<p>5184 rows × 10 columns</p>\n",
              "</div>"
            ],
            "text/plain": [
              "      Esoil  Econc  Dbot   H1   H2   H3      Mr_t      Mt_t      Mr_c      Mt_c\n",
              "0        25  30000    17  0.8  1.0  0.8  0.082100  0.055648  0.082100  0.055648\n",
              "1        25  30000    17  0.8  1.0  0.8 -0.597084 -0.233470  1.160648  0.605016\n",
              "2        25  30000    17  0.8  1.0  0.8 -1.094196 -0.566130  1.908188  0.947770\n",
              "3        25  30000    17  0.8  1.0  0.8 -1.416485 -0.865039  2.844706  1.310545\n",
              "4        25  37000    17  0.8  1.0  0.8  0.079570  0.054213  0.079570  0.054213\n",
              "...     ...    ...   ...  ...  ...  ...       ...       ...       ...       ...\n",
              "5179     75  30000    23  1.6  2.0  1.6 -6.027412 -2.866107  6.471047  4.499262\n",
              "5180     75  37000    23  1.6  2.0  1.6  0.143146  0.108935  0.143146  0.108935\n",
              "5181     75  37000    23  1.6  2.0  1.6 -2.671362 -0.561849  1.702752  2.465506\n",
              "5182     75  37000    23  1.6  2.0  1.6 -4.408298 -1.696514  4.021527  3.522614\n",
              "5183     75  37000    23  1.6  2.0  1.6 -6.023094 -2.859481  6.345367  4.585227\n",
              "\n",
              "[5184 rows x 10 columns]"
            ]
          },
          "metadata": {
            "tags": []
          },
          "execution_count": 4
        }
      ]
    },
    {
      "cell_type": "markdown",
      "metadata": {
        "id": "9zNd6ENdbdQX",
        "colab_type": "text"
      },
      "source": [
        "## Regressor \n",
        "Most regression algorithms in machine learning use a single regression value. This presents a problem since our objective is to predict at least 3 values for the force $(x,y,z)$. There are several ways to circumvent this issue, and neural networks/deep learning models handle this natively, but for our problem likely the simplest is to wrap the model in a multioutput wrapper such as `sklearn.multioutput.MultiOutputRegressor`. [This seems to be the current supported method as per the xgboost github.](https://github.com/dmlc/xgboost/issues/2087)."
      ]
    },
    {
      "cell_type": "code",
      "metadata": {
        "id": "SZFCtG2MoBPC",
        "colab_type": "code",
        "colab": {
          "base_uri": "https://localhost:8080/",
          "height": 442
        },
        "outputId": "ec024e58-36a2-4c25-d61f-129f708931a5"
      },
      "source": [
        "## Defining regressors\n",
        "\n",
        "# simple xgboost regressor\n",
        "single_model = xgb.XGBRegressor(n_estimators=2000, max_depth=20, learning_rate=0.01, objective='reg:squarederror')\n",
        "print(single_model)\n",
        "\n",
        "# multi output regressor\n",
        "model = MultiOutputRegressor(single_model)\n",
        "print(\"\\n\")\n",
        "print(model)"
      ],
      "execution_count": 33,
      "outputs": [
        {
          "output_type": "stream",
          "text": [
            "XGBRegressor(base_score=0.5, booster='gbtree', colsample_bylevel=1,\n",
            "             colsample_bynode=1, colsample_bytree=1, gamma=0,\n",
            "             importance_type='gain', learning_rate=0.01, max_delta_step=0,\n",
            "             max_depth=20, min_child_weight=1, missing=None, n_estimators=2000,\n",
            "             n_jobs=1, nthread=None, objective='reg:squarederror',\n",
            "             random_state=0, reg_alpha=0, reg_lambda=1, scale_pos_weight=1,\n",
            "             seed=None, silent=None, subsample=1, verbosity=1)\n",
            "\n",
            "\n",
            "MultiOutputRegressor(estimator=XGBRegressor(base_score=0.5, booster='gbtree',\n",
            "                                            colsample_bylevel=1,\n",
            "                                            colsample_bynode=1,\n",
            "                                            colsample_bytree=1, gamma=0,\n",
            "                                            importance_type='gain',\n",
            "                                            learning_rate=0.01,\n",
            "                                            max_delta_step=0, max_depth=20,\n",
            "                                            min_child_weight=1, missing=None,\n",
            "                                            n_estimators=2000, n_jobs=1,\n",
            "                                            nthread=None,\n",
            "                                            objective='reg:squarederror',\n",
            "                                            random_state=0, reg_alpha=0,\n",
            "                                            reg_lambda=1, scale_pos_weight=1,\n",
            "                                            seed=None, silent=None, subsample=1,\n",
            "                                            verbosity=1),\n",
            "                     n_jobs=None)\n"
          ],
          "name": "stdout"
        }
      ]
    },
    {
      "cell_type": "code",
      "metadata": {
        "id": "jHBWaARshJqy",
        "colab_type": "code",
        "colab": {
          "base_uri": "https://localhost:8080/",
          "height": 68
        },
        "outputId": "7a170bf0-bd6a-4b56-ac92-c281e23233b2"
      },
      "source": [
        "# fitting\n",
        "multioutputregressor = model.fit(voltages, forces)"
      ],
      "execution_count": null,
      "outputs": [
        {
          "output_type": "stream",
          "text": [
            "[02:47:03] WARNING: /workspace/src/objective/regression_obj.cu:152: reg:linear is now deprecated in favor of reg:squarederror.\n",
            "[02:47:13] WARNING: /workspace/src/objective/regression_obj.cu:152: reg:linear is now deprecated in favor of reg:squarederror.\n",
            "[02:47:29] WARNING: /workspace/src/objective/regression_obj.cu:152: reg:linear is now deprecated in favor of reg:squarederror.\n"
          ],
          "name": "stdout"
        }
      ]
    },
    {
      "cell_type": "code",
      "metadata": {
        "id": "Fmc8cTb5oA1m",
        "colab_type": "code",
        "colab": {
          "base_uri": "https://localhost:8080/",
          "height": 136
        },
        "outputId": "2749c4f8-2c6b-4171-9393-c3b112a84e79"
      },
      "source": [
        "# prediction\n",
        "preds = model.predict(voltages)\n",
        "preds = np.array(preds)\n",
        "preds"
      ],
      "execution_count": null,
      "outputs": [
        {
          "output_type": "execute_result",
          "data": {
            "text/plain": [
              "array([[5.0961971e-06, 3.4999878e+03, 9.0029275e-01],\n",
              "       [9.9999771e+00, 1.9999940e+03, 9.0010095e-01],\n",
              "       [1.7999866e+01, 1.9999940e+03, 8.9997303e-01],\n",
              "       ...,\n",
              "       [1.0000171e+01, 4.9999756e+03, 1.1003637e+00],\n",
              "       [1.7999958e+01, 4.9999761e+03, 1.0998728e+00],\n",
              "       [2.5999891e+01, 4.9999761e+03, 1.0999899e+00]], dtype=float32)"
            ]
          },
          "metadata": {
            "tags": []
          },
          "execution_count": 33
        }
      ]
    },
    {
      "cell_type": "markdown",
      "metadata": {
        "id": "Vy4pojXosz9a",
        "colab_type": "text"
      },
      "source": [
        "## Evaluating\n",
        "A good way of visualizing the performance of the model is to use the mean squared error with each of the force parameters when compared to the model predictions. "
      ]
    },
    {
      "cell_type": "code",
      "metadata": {
        "id": "1TOqBrrhuBOl",
        "colab_type": "code",
        "colab": {
          "base_uri": "https://localhost:8080/",
          "height": 312
        },
        "outputId": "fcaafa51-8c38-4c6e-9227-6f55d6abad42"
      },
      "source": [
        "# the root squared error for ecc\n",
        "rse_ecc = np.sqrt((preds[:,0] - np.array(df['ecc']))**2)\n",
        "\n",
        "# the squared error percentage compared to the mean\n",
        "rse_perc_ecc = (rse_ecc/df['ecc'].mean())*100\n",
        "plt.plot(rse_perc_ecc)\n",
        "plt.title('ecc root squared percent error')\n",
        "plt.ylabel('root square percent error')\n",
        "plt.xlabel('sample')\n",
        "\n",
        "# the mean squared error\n",
        "mse_ecc = mean_squared_error(preds[:,0],np.array(df['ecc']))\n",
        "print(f'mean squared error: {mse_ecc}')"
      ],
      "execution_count": null,
      "outputs": [
        {
          "output_type": "stream",
          "text": [
            "mean squared error: 9.445673217526552e-09\n"
          ],
          "name": "stdout"
        },
        {
          "output_type": "display_data",
          "data": {
            "image/png": "[encoded data removed]",
            "text/plain": [
              "<Figure size 432x288 with 1 Axes>"
            ]
          },
          "metadata": {
            "tags": [],
            "needs_background": "light"
          }
        }
      ]
    },
    {
      "cell_type": "code",
      "metadata": {
        "id": "M1_yShjPxpOJ",
        "colab_type": "code",
        "colab": {
          "base_uri": "https://localhost:8080/",
          "height": 312
        },
        "outputId": "388c5ee0-d7e4-4f63-87dd-880b689a8b03"
      },
      "source": [
        "# the root squared error for N\n",
        "rse_N = np.sqrt((preds[:,1] - np.array(df['N']))**2)\n",
        "\n",
        "# the squared error percentage compared to the mean\n",
        "rse_perc_N = (rse_N/df['N'].mean())*100\n",
        "plt.plot(rse_perc_N[0:100], '-')\n",
        "plt.title('N root squared error')\n",
        "plt.ylabel('root square percent error')\n",
        "plt.xlabel('sample')\n",
        "\n",
        "# the mean squared error\n",
        "mse_N = mean_squared_error(preds[:,1],np.array(df['N']))\n",
        "print(f'mean squared error: {mse_N}')"
      ],
      "execution_count": null,
      "outputs": [
        {
          "output_type": "stream",
          "text": [
            "mean squared error: 562500.0002617456\n"
          ],
          "name": "stdout"
        },
        {
          "output_type": "display_data",
          "data": {
            "image/png": "[encoded data removed]",
            "text/plain": [
              "<Figure size 432x288 with 1 Axes>"
            ]
          },
          "metadata": {
            "tags": [],
            "needs_background": "light"
          }
        }
      ]
    },
    {
      "cell_type": "code",
      "metadata": {
        "id": "nk5izPvR1o1Y",
        "colab_type": "code",
        "colab": {
          "base_uri": "https://localhost:8080/",
          "height": 312
        },
        "outputId": "4ee0131a-24f8-4e3b-bb57-e95fd84610b3"
      },
      "source": [
        "# the root squared error for gamma\n",
        "rse_gamma = np.sqrt((preds[:,2] - np.array(df['gammaG']))**2)\n",
        "\n",
        "# the squared error percentage compared to the mean\n",
        "rse_perc_gamma = (rse_gamma/df['gammaG'].mean())*100\n",
        "plt.plot(rse_perc_gamma)\n",
        "plt.title('gamma root squared percent error')\n",
        "plt.ylabel('root square percent error')\n",
        "plt.xlabel('sample')\n",
        "\n",
        "# the mean squared error\n",
        "mse_gamma = mean_squared_error(preds[:,2],np.array(df['gammaG']))\n",
        "print(f'mean squared error: {mse_gamma}')"
      ],
      "execution_count": null,
      "outputs": [
        {
          "output_type": "stream",
          "text": [
            "mean squared error: 2.7758863901639538e-06\n"
          ],
          "name": "stdout"
        },
        {
          "output_type": "display_data",
          "data": {
            "image/png": "[encoded data removed]",
            "text/plain": [
              "<Figure size 432x288 with 1 Axes>"
            ]
          },
          "metadata": {
            "tags": [],
            "needs_background": "light"
          }
        }
      ]
    },
    {
      "cell_type": "markdown",
      "metadata": {
        "id": "giySFCvx2djE",
        "colab_type": "text"
      },
      "source": [
        "So for both $e_{cc}$ and $\\gamma_G$ the model was very performant, with maximum percent errors of 0.012% and 1.2% w.r.t their mean values, respectively. $N$ was problematic and although most of the error values seem to be very low (~0.2), it very often is wrong on the order of about 1500. Again, I don't know what $N$ is but it might just be that it is a value that isn't strongly correlated with the inputs. Since this is a prototype, it is not worth the effort to try to find a model that could learn a lose correlation like that, instead we will ignore $N$ as predicted variable, and add it to the inputs. This way the next section on tuning is going to be more readable in the future."
      ]
    },
    {
      "cell_type": "code",
      "metadata": {
        "id": "FmVd8O5PV3Y1",
        "colab_type": "code",
        "colab": {
          "base_uri": "https://localhost:8080/",
          "height": 419
        },
        "outputId": "d56e953c-746e-431a-b92b-e39c98887869"
      },
      "source": [
        "# changing parameters for the sake of the prototype's readability\n",
        "forces, voltages = df[['ecc','gammaG']], df[['N','Esoil','Econc','Dbot','H1','H2','H3','Mr_t','Mt_t','Mr_c','Mt_c']] #Column names are explicity stated for this, instead of the column indices\n",
        "\n",
        "# displaying forces for a sanity check that we got the correct columns\n",
        "with pd.option_context('display.max_rows', 10): #setting to show 10 rows\n",
        "  display(forces)\n"
      ],
      "execution_count": 148,
      "outputs": [
        {
          "output_type": "display_data",
          "data": {
            "text/html": [
              "<div>\n",
              "<style scoped>\n",
              "    .dataframe tbody tr th:only-of-type {\n",
              "        vertical-align: middle;\n",
              "    }\n",
              "\n",
              "    .dataframe tbody tr th {\n",
              "        vertical-align: top;\n",
              "    }\n",
              "\n",
              "    .dataframe thead th {\n",
              "        text-align: right;\n",
              "    }\n",
              "</style>\n",
              "<table border=\"1\" class=\"dataframe\">\n",
              "  <thead>\n",
              "    <tr style=\"text-align: right;\">\n",
              "      <th></th>\n",
              "      <th>ecc</th>\n",
              "      <th>gammaG</th>\n",
              "    </tr>\n",
              "  </thead>\n",
              "  <tbody>\n",
              "    <tr>\n",
              "      <th>0</th>\n",
              "      <td>0</td>\n",
              "      <td>0.9</td>\n",
              "    </tr>\n",
              "    <tr>\n",
              "      <th>1</th>\n",
              "      <td>10</td>\n",
              "      <td>0.9</td>\n",
              "    </tr>\n",
              "    <tr>\n",
              "      <th>2</th>\n",
              "      <td>18</td>\n",
              "      <td>0.9</td>\n",
              "    </tr>\n",
              "    <tr>\n",
              "      <th>3</th>\n",
              "      <td>26</td>\n",
              "      <td>0.9</td>\n",
              "    </tr>\n",
              "    <tr>\n",
              "      <th>4</th>\n",
              "      <td>0</td>\n",
              "      <td>0.9</td>\n",
              "    </tr>\n",
              "    <tr>\n",
              "      <th>...</th>\n",
              "      <td>...</td>\n",
              "      <td>...</td>\n",
              "    </tr>\n",
              "    <tr>\n",
              "      <th>5179</th>\n",
              "      <td>26</td>\n",
              "      <td>1.1</td>\n",
              "    </tr>\n",
              "    <tr>\n",
              "      <th>5180</th>\n",
              "      <td>0</td>\n",
              "      <td>1.1</td>\n",
              "    </tr>\n",
              "    <tr>\n",
              "      <th>5181</th>\n",
              "      <td>10</td>\n",
              "      <td>1.1</td>\n",
              "    </tr>\n",
              "    <tr>\n",
              "      <th>5182</th>\n",
              "      <td>18</td>\n",
              "      <td>1.1</td>\n",
              "    </tr>\n",
              "    <tr>\n",
              "      <th>5183</th>\n",
              "      <td>26</td>\n",
              "      <td>1.1</td>\n",
              "    </tr>\n",
              "  </tbody>\n",
              "</table>\n",
              "<p>5184 rows × 2 columns</p>\n",
              "</div>"
            ],
            "text/plain": [
              "      ecc  gammaG\n",
              "0       0     0.9\n",
              "1      10     0.9\n",
              "2      18     0.9\n",
              "3      26     0.9\n",
              "4       0     0.9\n",
              "...   ...     ...\n",
              "5179   26     1.1\n",
              "5180    0     1.1\n",
              "5181   10     1.1\n",
              "5182   18     1.1\n",
              "5183   26     1.1\n",
              "\n",
              "[5184 rows x 2 columns]"
            ]
          },
          "metadata": {
            "tags": []
          }
        }
      ]
    },
    {
      "cell_type": "markdown",
      "metadata": {
        "id": "AYyuzMtTnNG2",
        "colab_type": "text"
      },
      "source": [
        "## Tuning\n",
        "It is worth it to devote some time to tuning after figuring out the general model structure. This can be easily done with `GridSearchCV`. What it does is literally an exhaustive search of all specified parameters to see how they affect the model's predictions. Alternatively, `RandomizedSearchCV` is a better option if there are many parameters to tune, although it might not find the exact best solution, it will find a good enough one in most cases. Knowing what to vary and between what values comes from experience, gut feeling, other people's solutions, and sometimes, if you are lucky, a paper that explored the same type of problem. \n",
        "\n",
        "### Training and testing\n",
        "One more thing to note is the issue of fitting the data. The intention of a machine learning technique is that the model finds a function that represents the real world data, but a model can technically simply fit the data by \"copying\" the provided datapoints and have a bad representation in between those points (the same way a 7th order polynomial for instance can perfectly fit 3 points, but it doesn't mean that the actual trend the polynomial shows is actually representative of the data).\n",
        "To avoid this, what is usually done is a random split of the data between 2 new datasets, named \"train\" and \"test\" dataset. The train dataset is what the model sees while it is learning the data, and the test dataset is used to see if the model can predict this other set of datapoints it hasn't been exposed to yet. If the model can predict the train dataset but can't predict the testing dataset, it means that it overfitted the data and didn't actually learn a useful pattern. If the model doesn't predict either, it means that it underfitted the data, and doesn't have predictive power. The idea is to find a balance between these two extremes."
      ]
    },
    {
      "cell_type": "code",
      "metadata": {
        "id": "4D94PD2inZt6",
        "colab_type": "code",
        "colab": {
          "base_uri": "https://localhost:8080/",
          "height": 34
        },
        "outputId": "f8473a83-bd46-483b-dc79-d33cf3c58f37"
      },
      "source": [
        "## Splitting the data into a training set containint 85% of the data and a test set with the remaining\n",
        "voltages_train, voltages_test, forces_train, forces_test = train_test_split(\n",
        "    voltages, forces, test_size=0.15)\n",
        "\n",
        "## displaying the sized of the training and testing datasets\n",
        "print(f'The total dataset has {len(voltages)} samples, split into training: {len(voltages_train)} and test: {len(forces_test)}') "
      ],
      "execution_count": 149,
      "outputs": [
        {
          "output_type": "stream",
          "text": [
            "The total dataset has 5184 samples, split into training: 4406 and test: 778\n"
          ],
          "name": "stdout"
        }
      ]
    },
    {
      "cell_type": "markdown",
      "metadata": {
        "id": "LeMYQaV1ANWP",
        "colab_type": "text"
      },
      "source": [
        "A little notable feature is that because this is a multioutput model, and \n",
        "the multioutput aspect is just a wrapper on top of the actual xgboost model, it is not possible to pass the keys of xgboost directly when tuning, instead it is necessary to pass them prefixed by `estimator__`. The need for this can be seen by displaying `model.get_params().keys()` as can be seen in the next cell"
      ]
    },
    {
      "cell_type": "code",
      "metadata": {
        "id": "HnoSJbKvAz5g",
        "colab_type": "code",
        "colab": {
          "base_uri": "https://localhost:8080/",
          "height": 54
        },
        "outputId": "b70bdab1-c3cc-492c-d977-d2f0ec5fdc21"
      },
      "source": [
        "print(model.get_params().keys())"
      ],
      "execution_count": null,
      "outputs": [
        {
          "output_type": "stream",
          "text": [
            "dict_keys(['estimator__base_score', 'estimator__booster', 'estimator__colsample_bylevel', 'estimator__colsample_bynode', 'estimator__colsample_bytree', 'estimator__gamma', 'estimator__importance_type', 'estimator__learning_rate', 'estimator__max_delta_step', 'estimator__max_depth', 'estimator__min_child_weight', 'estimator__missing', 'estimator__n_estimators', 'estimator__n_jobs', 'estimator__nthread', 'estimator__objective', 'estimator__random_state', 'estimator__reg_alpha', 'estimator__reg_lambda', 'estimator__scale_pos_weight', 'estimator__seed', 'estimator__silent', 'estimator__subsample', 'estimator__verbosity', 'estimator', 'n_jobs'])\n"
          ],
          "name": "stdout"
        }
      ]
    },
    {
      "cell_type": "markdown",
      "metadata": {
        "id": "4iiiRBk1Yrq-",
        "colab_type": "text"
      },
      "source": [
        "It is important to note what data is being provided to the model during tuning. While it is desirable that the model be the best at predicting the entire data, we want to avoid overfitting, so we only show it te training data during tuning, and then the model's performane of  the tuned model can be more easily compared against the test dataset. This allows us to determine whether a tuning setting essentially is too much for the dataset we have."
      ]
    },
    {
      "cell_type": "code",
      "metadata": {
        "id": "m-z04-fb3NSn",
        "colab_type": "code",
        "colab": {
          "base_uri": "https://localhost:8080/",
          "height": 595
        },
        "outputId": "561b35a9-189a-41b5-fd7a-bcebb1c5462f"
      },
      "source": [
        "## Redefining the model to have base parameters we'd like \n",
        "# simple xgboost regressor\n",
        "single_model = xgb.XGBRegressor(subsample = 0.7, eval_metric = 'rmse', n_estimators=400, max_depth=5, objective='reg:squarederror', tree_method = 'hist')\n",
        "# multi output regressor\n",
        "model = MultiOutputRegressor(single_model)\n",
        "\n",
        "\n",
        "## creating a dictionary containing all the parameters to be iterated through\n",
        "\n",
        "tuning_parameters = {\n",
        "    \"estimator__learning_rate\": [0.1, 0.01, 0.001],\n",
        "    \"estimator__colsample_bytree\": [0.6, 0.8, 1.0],\n",
        "    \"estimator__subsample\": [0.6, 0.8, 1.0],\n",
        "    \"estimator__max_depth\": [2, 3, 4,6 ,8 ,10],\n",
        "    \"estimator__n_estimators\": [100, 200, 300, 400],\n",
        "    \"estimator__reg_lambda\": [1, 1.5, 2],\n",
        "    \"estimator__gamma\": [0.1, 0.3, 0.5, 0.7],\n",
        "}\n",
        "\n",
        "## running the tuning\n",
        "model_search = RandomizedSearchCV(model, tuning_parameters, scoring = 'explained_variance', verbose = 1)\n",
        "model_search.fit(voltages_train, forces_train)"
      ],
      "execution_count": 150,
      "outputs": [
        {
          "output_type": "stream",
          "text": [
            "Fitting 5 folds for each of 10 candidates, totalling 50 fits\n"
          ],
          "name": "stdout"
        },
        {
          "output_type": "stream",
          "text": [
            "[Parallel(n_jobs=1)]: Using backend SequentialBackend with 1 concurrent workers.\n",
            "[Parallel(n_jobs=1)]: Done  50 out of  50 | elapsed:   52.0s finished\n"
          ],
          "name": "stderr"
        },
        {
          "output_type": "execute_result",
          "data": {
            "text/plain": [
              "RandomizedSearchCV(cv=None, error_score=nan,\n",
              "                   estimator=MultiOutputRegressor(estimator=XGBRegressor(base_score=0.5,\n",
              "                                                                         booster='gbtree',\n",
              "                                                                         colsample_bylevel=1,\n",
              "                                                                         colsample_bynode=1,\n",
              "                                                                         colsample_bytree=1,\n",
              "                                                                         eval_metric='rmse',\n",
              "                                                                         gamma=0,\n",
              "                                                                         importance_type='gain',\n",
              "                                                                         learning_rate=0.1,\n",
              "                                                                         max_delta_step=0,\n",
              "                                                                         max_depth=5,\n",
              "                                                                         min_child_weight=1,\n",
              "                                                                         missing=None,\n",
              "                                                                         n_estimators=400,\n",
              "                                                                         n_jobs=1,\n",
              "                                                                         nthread=...\n",
              "                                        'estimator__gamma': [0.1, 0.3, 0.5,\n",
              "                                                             0.7],\n",
              "                                        'estimator__learning_rate': [0.1, 0.01,\n",
              "                                                                     0.001],\n",
              "                                        'estimator__max_depth': [2, 3, 4, 6, 8,\n",
              "                                                                 10],\n",
              "                                        'estimator__n_estimators': [100, 200,\n",
              "                                                                    300, 400],\n",
              "                                        'estimator__reg_lambda': [1, 1.5, 2],\n",
              "                                        'estimator__subsample': [0.6, 0.8,\n",
              "                                                                 1.0]},\n",
              "                   pre_dispatch='2*n_jobs', random_state=None, refit=True,\n",
              "                   return_train_score=False, scoring='explained_variance',\n",
              "                   verbose=1)"
            ]
          },
          "metadata": {
            "tags": []
          },
          "execution_count": 150
        }
      ]
    },
    {
      "cell_type": "markdown",
      "metadata": {
        "id": "V7n7Wd84ZTfz",
        "colab_type": "text"
      },
      "source": [
        "On a tuning object (such as `model_search` in this prototype), the `.cv_results_` method returns a table with all parameter combinations tested and what the results were for whatever metric is used for tuning."
      ]
    },
    {
      "cell_type": "code",
      "metadata": {
        "id": "NH5tIlaT-h_p",
        "colab_type": "code",
        "colab": {
          "base_uri": "https://localhost:8080/",
          "height": 549
        },
        "outputId": "5726e1ff-5fea-48d1-d651-471b7fcf3532"
      },
      "source": [
        "with pd.option_context('display.max_rows', None): #setting to show all rows\n",
        "\n",
        "  #show only the more relevant columns sorted by rank\n",
        "  results = pd.DataFrame(model_search.cv_results_)##[['param_estimator__gamma','param_estimator__learning_rate','param_estimator__max_depth','param_estimator__n_estimators','mean_test_score','std_test_score','rank_test_score']]\n",
        "  results.sort_values(by='rank_test_score', inplace=True)\n",
        "  display(results)"
      ],
      "execution_count": 151,
      "outputs": [
        {
          "output_type": "display_data",
          "data": {
            "text/html": [
              "<div>\n",
              "<style scoped>\n",
              "    .dataframe tbody tr th:only-of-type {\n",
              "        vertical-align: middle;\n",
              "    }\n",
              "\n",
              "    .dataframe tbody tr th {\n",
              "        vertical-align: top;\n",
              "    }\n",
              "\n",
              "    .dataframe thead th {\n",
              "        text-align: right;\n",
              "    }\n",
              "</style>\n",
              "<table border=\"1\" class=\"dataframe\">\n",
              "  <thead>\n",
              "    <tr style=\"text-align: right;\">\n",
              "      <th></th>\n",
              "      <th>mean_fit_time</th>\n",
              "      <th>std_fit_time</th>\n",
              "      <th>mean_score_time</th>\n",
              "      <th>std_score_time</th>\n",
              "      <th>param_estimator__subsample</th>\n",
              "      <th>param_estimator__reg_lambda</th>\n",
              "      <th>param_estimator__n_estimators</th>\n",
              "      <th>param_estimator__max_depth</th>\n",
              "      <th>param_estimator__learning_rate</th>\n",
              "      <th>param_estimator__gamma</th>\n",
              "      <th>param_estimator__colsample_bytree</th>\n",
              "      <th>params</th>\n",
              "      <th>split0_test_score</th>\n",
              "      <th>split1_test_score</th>\n",
              "      <th>split2_test_score</th>\n",
              "      <th>split3_test_score</th>\n",
              "      <th>split4_test_score</th>\n",
              "      <th>mean_test_score</th>\n",
              "      <th>std_test_score</th>\n",
              "      <th>rank_test_score</th>\n",
              "    </tr>\n",
              "  </thead>\n",
              "  <tbody>\n",
              "    <tr>\n",
              "      <th>1</th>\n",
              "      <td>2.571640</td>\n",
              "      <td>0.109831</td>\n",
              "      <td>0.009331</td>\n",
              "      <td>0.002106</td>\n",
              "      <td>0.8</td>\n",
              "      <td>2</td>\n",
              "      <td>300</td>\n",
              "      <td>10</td>\n",
              "      <td>0.1</td>\n",
              "      <td>0.3</td>\n",
              "      <td>1</td>\n",
              "      <td>{'estimator__subsample': 0.8, 'estimator__reg_...</td>\n",
              "      <td>0.572864</td>\n",
              "      <td>0.557092</td>\n",
              "      <td>0.560706</td>\n",
              "      <td>0.572347</td>\n",
              "      <td>0.566150</td>\n",
              "      <td>0.565832</td>\n",
              "      <td>0.006239</td>\n",
              "      <td>1</td>\n",
              "    </tr>\n",
              "    <tr>\n",
              "      <th>0</th>\n",
              "      <td>3.674375</td>\n",
              "      <td>0.059029</td>\n",
              "      <td>0.011373</td>\n",
              "      <td>0.000960</td>\n",
              "      <td>0.8</td>\n",
              "      <td>2</td>\n",
              "      <td>400</td>\n",
              "      <td>10</td>\n",
              "      <td>0.1</td>\n",
              "      <td>0.3</td>\n",
              "      <td>0.8</td>\n",
              "      <td>{'estimator__subsample': 0.8, 'estimator__reg_...</td>\n",
              "      <td>0.564267</td>\n",
              "      <td>0.555394</td>\n",
              "      <td>0.566398</td>\n",
              "      <td>0.573077</td>\n",
              "      <td>0.560178</td>\n",
              "      <td>0.563863</td>\n",
              "      <td>0.005946</td>\n",
              "      <td>2</td>\n",
              "    </tr>\n",
              "    <tr>\n",
              "      <th>6</th>\n",
              "      <td>0.553438</td>\n",
              "      <td>0.018860</td>\n",
              "      <td>0.009079</td>\n",
              "      <td>0.000424</td>\n",
              "      <td>0.6</td>\n",
              "      <td>1</td>\n",
              "      <td>300</td>\n",
              "      <td>3</td>\n",
              "      <td>0.1</td>\n",
              "      <td>0.5</td>\n",
              "      <td>0.8</td>\n",
              "      <td>{'estimator__subsample': 0.6, 'estimator__reg_...</td>\n",
              "      <td>0.523874</td>\n",
              "      <td>0.519546</td>\n",
              "      <td>0.522563</td>\n",
              "      <td>0.524494</td>\n",
              "      <td>0.521910</td>\n",
              "      <td>0.522477</td>\n",
              "      <td>0.001729</td>\n",
              "      <td>3</td>\n",
              "    </tr>\n",
              "    <tr>\n",
              "      <th>2</th>\n",
              "      <td>0.178995</td>\n",
              "      <td>0.004240</td>\n",
              "      <td>0.007547</td>\n",
              "      <td>0.000582</td>\n",
              "      <td>1</td>\n",
              "      <td>1.5</td>\n",
              "      <td>200</td>\n",
              "      <td>2</td>\n",
              "      <td>0.1</td>\n",
              "      <td>0.7</td>\n",
              "      <td>0.6</td>\n",
              "      <td>{'estimator__subsample': 1.0, 'estimator__reg_...</td>\n",
              "      <td>0.519703</td>\n",
              "      <td>0.515172</td>\n",
              "      <td>0.515696</td>\n",
              "      <td>0.518360</td>\n",
              "      <td>0.514834</td>\n",
              "      <td>0.516753</td>\n",
              "      <td>0.001928</td>\n",
              "      <td>4</td>\n",
              "    </tr>\n",
              "    <tr>\n",
              "      <th>7</th>\n",
              "      <td>0.829175</td>\n",
              "      <td>0.019365</td>\n",
              "      <td>0.025209</td>\n",
              "      <td>0.000790</td>\n",
              "      <td>1</td>\n",
              "      <td>2</td>\n",
              "      <td>400</td>\n",
              "      <td>6</td>\n",
              "      <td>0.01</td>\n",
              "      <td>0.7</td>\n",
              "      <td>0.6</td>\n",
              "      <td>{'estimator__subsample': 1.0, 'estimator__reg_...</td>\n",
              "      <td>0.516929</td>\n",
              "      <td>0.513689</td>\n",
              "      <td>0.515416</td>\n",
              "      <td>0.516201</td>\n",
              "      <td>0.513443</td>\n",
              "      <td>0.515136</td>\n",
              "      <td>0.001370</td>\n",
              "      <td>5</td>\n",
              "    </tr>\n",
              "    <tr>\n",
              "      <th>8</th>\n",
              "      <td>0.635595</td>\n",
              "      <td>0.010093</td>\n",
              "      <td>0.007466</td>\n",
              "      <td>0.000361</td>\n",
              "      <td>0.6</td>\n",
              "      <td>2</td>\n",
              "      <td>200</td>\n",
              "      <td>6</td>\n",
              "      <td>0.1</td>\n",
              "      <td>0.7</td>\n",
              "      <td>0.8</td>\n",
              "      <td>{'estimator__subsample': 0.6, 'estimator__reg_...</td>\n",
              "      <td>0.513654</td>\n",
              "      <td>0.513791</td>\n",
              "      <td>0.515507</td>\n",
              "      <td>0.515930</td>\n",
              "      <td>0.513046</td>\n",
              "      <td>0.514386</td>\n",
              "      <td>0.001125</td>\n",
              "      <td>6</td>\n",
              "    </tr>\n",
              "    <tr>\n",
              "      <th>3</th>\n",
              "      <td>0.787848</td>\n",
              "      <td>0.017148</td>\n",
              "      <td>0.014122</td>\n",
              "      <td>0.001332</td>\n",
              "      <td>0.6</td>\n",
              "      <td>1.5</td>\n",
              "      <td>400</td>\n",
              "      <td>3</td>\n",
              "      <td>0.01</td>\n",
              "      <td>0.7</td>\n",
              "      <td>1</td>\n",
              "      <td>{'estimator__subsample': 0.6, 'estimator__reg_...</td>\n",
              "      <td>0.510885</td>\n",
              "      <td>0.511157</td>\n",
              "      <td>0.512889</td>\n",
              "      <td>0.512639</td>\n",
              "      <td>0.509686</td>\n",
              "      <td>0.511451</td>\n",
              "      <td>0.001184</td>\n",
              "      <td>7</td>\n",
              "    </tr>\n",
              "    <tr>\n",
              "      <th>5</th>\n",
              "      <td>0.531249</td>\n",
              "      <td>0.015185</td>\n",
              "      <td>0.009002</td>\n",
              "      <td>0.000549</td>\n",
              "      <td>0.6</td>\n",
              "      <td>2</td>\n",
              "      <td>200</td>\n",
              "      <td>8</td>\n",
              "      <td>0.01</td>\n",
              "      <td>0.7</td>\n",
              "      <td>0.8</td>\n",
              "      <td>{'estimator__subsample': 0.6, 'estimator__reg_...</td>\n",
              "      <td>0.498294</td>\n",
              "      <td>0.500278</td>\n",
              "      <td>0.500727</td>\n",
              "      <td>0.499759</td>\n",
              "      <td>0.498055</td>\n",
              "      <td>0.499423</td>\n",
              "      <td>0.001067</td>\n",
              "      <td>8</td>\n",
              "    </tr>\n",
              "    <tr>\n",
              "      <th>9</th>\n",
              "      <td>0.328912</td>\n",
              "      <td>0.008275</td>\n",
              "      <td>0.007138</td>\n",
              "      <td>0.000516</td>\n",
              "      <td>0.8</td>\n",
              "      <td>2</td>\n",
              "      <td>200</td>\n",
              "      <td>2</td>\n",
              "      <td>0.001</td>\n",
              "      <td>0.3</td>\n",
              "      <td>1</td>\n",
              "      <td>{'estimator__subsample': 0.8, 'estimator__reg_...</td>\n",
              "      <td>0.156896</td>\n",
              "      <td>0.154221</td>\n",
              "      <td>0.156556</td>\n",
              "      <td>0.157618</td>\n",
              "      <td>0.156700</td>\n",
              "      <td>0.156398</td>\n",
              "      <td>0.001148</td>\n",
              "      <td>9</td>\n",
              "    </tr>\n",
              "    <tr>\n",
              "      <th>4</th>\n",
              "      <td>0.191000</td>\n",
              "      <td>0.005851</td>\n",
              "      <td>0.006118</td>\n",
              "      <td>0.000546</td>\n",
              "      <td>0.6</td>\n",
              "      <td>1</td>\n",
              "      <td>100</td>\n",
              "      <td>4</td>\n",
              "      <td>0.001</td>\n",
              "      <td>0.7</td>\n",
              "      <td>0.8</td>\n",
              "      <td>{'estimator__subsample': 0.6, 'estimator__reg_...</td>\n",
              "      <td>0.089728</td>\n",
              "      <td>0.090607</td>\n",
              "      <td>0.090219</td>\n",
              "      <td>0.090590</td>\n",
              "      <td>0.090881</td>\n",
              "      <td>0.090405</td>\n",
              "      <td>0.000399</td>\n",
              "      <td>10</td>\n",
              "    </tr>\n",
              "  </tbody>\n",
              "</table>\n",
              "</div>"
            ],
            "text/plain": [
              "   mean_fit_time  std_fit_time  ...  std_test_score  rank_test_score\n",
              "1       2.571640      0.109831  ...        0.006239                1\n",
              "0       3.674375      0.059029  ...        0.005946                2\n",
              "6       0.553438      0.018860  ...        0.001729                3\n",
              "2       0.178995      0.004240  ...        0.001928                4\n",
              "7       0.829175      0.019365  ...        0.001370                5\n",
              "8       0.635595      0.010093  ...        0.001125                6\n",
              "3       0.787848      0.017148  ...        0.001184                7\n",
              "5       0.531249      0.015185  ...        0.001067                8\n",
              "9       0.328912      0.008275  ...        0.001148                9\n",
              "4       0.191000      0.005851  ...        0.000399               10\n",
              "\n",
              "[10 rows x 20 columns]"
            ]
          },
          "metadata": {
            "tags": []
          }
        }
      ]
    },
    {
      "cell_type": "code",
      "metadata": {
        "id": "tgQbnfGbbICN",
        "colab_type": "code",
        "colab": {
          "base_uri": "https://localhost:8080/",
          "height": 54
        },
        "outputId": "c8b763de-91f2-44f7-a57e-a46d7d431a28"
      },
      "source": [
        "print(f'so the best model uses the parameters {model_search.best_params_} for a score of {model_search.best_score_}')"
      ],
      "execution_count": 69,
      "outputs": [
        {
          "output_type": "stream",
          "text": [
            "so the best model uses the parameters {'estimator__subsample': 0.6, 'estimator__reg_lambda': 2, 'estimator__n_estimators': 400, 'estimator__max_depth': 10, 'estimator__learning_rate': 0.1, 'estimator__gamma': 0.3, 'estimator__colsample_bytree': 0.6} for a score of 0.23175804956300555\n"
          ],
          "name": "stdout"
        }
      ]
    },
    {
      "cell_type": "markdown",
      "metadata": {
        "id": "9aBFSVIkeLC5",
        "colab_type": "text"
      },
      "source": [
        "This suggests some good parameters. The rank 1 option uses the maximum number of estimators and a somewhat low gamma, which is a regularization value, so we should be thinking it might be overfitting. Ideally this would be explored, but since this is just a prototype, I'll go with my gut feeling and use the rank 3 parameter setting because it has much higher gammas and a lower number of the parameters that often induce overfitting such as max depth and number of estimators, while still having seemingly just as much predictive power."
      ]
    },
    {
      "cell_type": "code",
      "metadata": {
        "id": "WpCiW8f1TiCG",
        "colab_type": "code",
        "colab": {
          "base_uri": "https://localhost:8080/",
          "height": 136
        },
        "outputId": "ccb2cf5b-a84a-4567-ccd7-c144fce5c696"
      },
      "source": [
        "## getting the rank 2 parameters\n",
        "rank = 3\n",
        "index_of_rank = int(np.where(model_search.cv_results_['rank_test_score'] == rank)[0]) #gets the index of the chosen rank\n",
        "chosen_parameters = model_search.cv_results_['params'][index_of_rank]\n",
        "\n",
        "## display chosen parameters\n",
        "chosen_parameters"
      ],
      "execution_count": 153,
      "outputs": [
        {
          "output_type": "execute_result",
          "data": {
            "text/plain": [
              "{'estimator__colsample_bytree': 0.8,\n",
              " 'estimator__gamma': 0.5,\n",
              " 'estimator__learning_rate': 0.1,\n",
              " 'estimator__max_depth': 3,\n",
              " 'estimator__n_estimators': 300,\n",
              " 'estimator__reg_lambda': 1,\n",
              " 'estimator__subsample': 0.6}"
            ]
          },
          "metadata": {
            "tags": []
          },
          "execution_count": 153
        }
      ]
    },
    {
      "cell_type": "code",
      "metadata": {
        "id": "G8Gl4EAFe58f",
        "colab_type": "code",
        "colab": {}
      },
      "source": [
        "## Creating a model with the best parameters found\n",
        "tuned_model = MultiOutputRegressor(xgb.XGBRegressor(objective = 'reg:squarederror'))\n",
        "tuned_model.set_params(**chosen_parameters);"
      ],
      "execution_count": null,
      "outputs": []
    },
    {
      "cell_type": "code",
      "metadata": {
        "id": "m7j-wiMRXvOv",
        "colab_type": "code",
        "colab": {
          "base_uri": "https://localhost:8080/",
          "height": 272
        },
        "outputId": "b2d1746d-9e13-4c2d-d6cb-f983cc639296"
      },
      "source": [
        "## Fitting the new model to the training set\n",
        "tuned_model.fit(voltages_train, forces_train)"
      ],
      "execution_count": 155,
      "outputs": [
        {
          "output_type": "execute_result",
          "data": {
            "text/plain": [
              "MultiOutputRegressor(estimator=XGBRegressor(base_score=0.5, booster='gbtree',\n",
              "                                            colsample_bylevel=1,\n",
              "                                            colsample_bynode=1,\n",
              "                                            colsample_bytree=1.0, gamma=0.7,\n",
              "                                            importance_type='gain',\n",
              "                                            learning_rate=0.1, max_delta_step=0,\n",
              "                                            max_depth=4, min_child_weight=1,\n",
              "                                            missing=None, n_estimators=300,\n",
              "                                            n_jobs=1, nthread=None,\n",
              "                                            objective='reg:squarederror',\n",
              "                                            random_state=0, reg_alpha=0,\n",
              "                                            reg_lambda=2, scale_pos_weight=1,\n",
              "                                            seed=None, silent=None,\n",
              "                                            subsample=1.0, verbosity=1),\n",
              "                     n_jobs=None)"
            ]
          },
          "metadata": {
            "tags": []
          },
          "execution_count": 155
        }
      ]
    },
    {
      "cell_type": "code",
      "metadata": {
        "id": "0oScR7xtYQrb",
        "colab_type": "code",
        "colab": {
          "base_uri": "https://localhost:8080/",
          "height": 136
        },
        "outputId": "9eb22dfc-10c6-4f7f-fbfa-d9a2df23c8f6"
      },
      "source": [
        "## Evaluating the new model's predictions on the test set\n",
        "# prediction\n",
        "tuned_preds = tuned_model.predict(voltages_test)\n",
        "tuned_preds = np.array(tuned_preds)\n",
        "tuned_preds"
      ],
      "execution_count": 156,
      "outputs": [
        {
          "output_type": "execute_result",
          "data": {
            "text/plain": [
              "array([[2.5972769e+01, 9.9895155e-01],\n",
              "       [2.5971193e+01, 9.9895155e-01],\n",
              "       [2.0472258e-02, 9.9895155e-01],\n",
              "       ...,\n",
              "       [2.5971193e+01, 9.9895155e-01],\n",
              "       [2.5972769e+01, 9.9895155e-01],\n",
              "       [1.7982292e+01, 9.9895155e-01]], dtype=float32)"
            ]
          },
          "metadata": {
            "tags": []
          },
          "execution_count": 156
        }
      ]
    },
    {
      "cell_type": "code",
      "metadata": {
        "id": "pE8zxg5qbdCn",
        "colab_type": "code",
        "colab": {
          "base_uri": "https://localhost:8080/",
          "height": 312
        },
        "outputId": "2e223add-8f0a-40b9-a563-917c2850c207"
      },
      "source": [
        "# the root squared error for ecc\n",
        "rse_ecc = np.sqrt((tuned_preds[:,0] - np.array(forces_test['ecc']))**2)\n",
        "\n",
        "# the squared error percentage compared to the mean\n",
        "rse_perc_ecc = (rse_ecc/forces_test['ecc'].mean())*100\n",
        "plt.plot(rse_perc_ecc)\n",
        "plt.title('ecc root squared percent error')\n",
        "plt.ylabel('root square percent error')\n",
        "plt.xlabel('sample')\n",
        "plt.ylim([0,0.5])\n",
        "\n",
        "# the mean squared error\n",
        "mse_ecc = mean_squared_error(tuned_preds[:,0],np.array(forces_test['ecc']))\n",
        "print(f'mean squared error: {mse_ecc}')"
      ],
      "execution_count": 161,
      "outputs": [
        {
          "output_type": "stream",
          "text": [
            "mean squared error: 0.08303985448234118\n"
          ],
          "name": "stdout"
        },
        {
          "output_type": "display_data",
          "data": {
            "image/png": "[encoded data removed]",
            "text/plain": [
              "<Figure size 432x288 with 1 Axes>"
            ]
          },
          "metadata": {
            "tags": [],
            "needs_background": "light"
          }
        }
      ]
    },
    {
      "cell_type": "code",
      "metadata": {
        "id": "-S5f4l1sYvz1",
        "colab_type": "code",
        "colab": {
          "base_uri": "https://localhost:8080/",
          "height": 312
        },
        "outputId": "0ff738dd-755d-4484-ab2a-6ec98b844640"
      },
      "source": [
        "# the root squared error for gamma\n",
        "rse_gamma = np.sqrt((tuned_preds[:,1] - np.array(forces_test['gammaG']))**2)\n",
        "\n",
        "# the squared error percentage compared to the mean\n",
        "rse_perc_gamma = (rse_gamma/forces_test['gammaG'].mean())*100\n",
        "plt.plot(rse_perc_gamma)\n",
        "plt.title('gamma root squared percent error')\n",
        "plt.ylabel('root square percent error')\n",
        "plt.xlabel('sample')\n",
        "plt.ylim([4,15])\n",
        "# the mean squared error\n",
        "mse_gamma = mean_squared_error(tuned_preds[:,1],np.array(forces_test['gammaG']))\n",
        "print(f'mean squared error: {mse_gamma}')"
      ],
      "execution_count": 169,
      "outputs": [
        {
          "output_type": "stream",
          "text": [
            "mean squared error: 0.009401598324273034\n"
          ],
          "name": "stdout"
        },
        {
          "output_type": "display_data",
          "data": {
            "image/png": "[encoded data removed]",
            "text/plain": [
              "<Figure size 432x288 with 1 Axes>"
            ]
          },
          "metadata": {
            "tags": [],
            "needs_background": "light"
          }
        }
      ]
    },
    {
      "cell_type": "markdown",
      "metadata": {
        "id": "2B0rb4lFfp_N",
        "colab_type": "text"
      },
      "source": [
        "So with this model the test set produced percent errors in the 0.2% range for one variable and 6-10% range for the other variable. This might seem like a downgrade from the previous model, but it is necessary to remember that the previous model was trained on all of the data, and therefore its values were probably overfitted. This is a good example and proof of concept of what needs to be done when moving on from the prototype."
      ]
    },
    {
      "cell_type": "markdown",
      "metadata": {
        "id": "0Bwad90krIC_",
        "colab_type": "text"
      },
      "source": [
        "## Saving\n",
        "After finding a good model, it is important to save it for future use. This can be done with `pickle.dump` and `pickle.load`"
      ]
    },
    {
      "cell_type": "code",
      "metadata": {
        "id": "UUfbF8ATrPgg",
        "colab_type": "code",
        "colab": {
          "base_uri": "https://localhost:8080/",
          "height": 17
        },
        "outputId": "b7a07ff7-6858-4e04-a6c7-072c4eb8a454"
      },
      "source": [
        "## saving the model\n",
        "pkl_filename = \"pickle_model.pkl\"\n",
        "with open(pkl_filename, 'wb') as file:\n",
        "    pickle.dump(tuned_model, file)\n",
        "\n",
        "## downloading the model to the computer since we are in a temporary online workspace\n",
        "from google.colab import files\n",
        "files.download(pkl_filename) "
      ],
      "execution_count": 173,
      "outputs": [
        {
          "output_type": "display_data",
          "data": {
            "application/javascript": [
              "\n",
              "    async function download(id, filename, size) {\n",
              "      if (!google.colab.kernel.accessAllowed) {\n",
              "        return;\n",
              "      }\n",
              "      const div = document.createElement('div');\n",
              "      const label = document.createElement('label');\n",
              "      label.textContent = `Downloading \"${filename}\": `;\n",
              "      div.appendChild(label);\n",
              "      const progress = document.createElement('progress');\n",
              "      progress.max = size;\n",
              "      div.appendChild(progress);\n",
              "      document.body.appendChild(div);\n",
              "\n",
              "      const buffers = [];\n",
              "      let downloaded = 0;\n",
              "\n",
              "      const channel = await google.colab.kernel.comms.open(id);\n",
              "      // Send a message to notify the kernel that we're ready.\n",
              "      channel.send({})\n",
              "\n",
              "      for await (const message of channel.messages) {\n",
              "        // Send a message to notify the kernel that we're ready.\n",
              "        channel.send({})\n",
              "        if (message.buffers) {\n",
              "          for (const buffer of message.buffers) {\n",
              "            buffers.push(buffer);\n",
              "            downloaded += buffer.byteLength;\n",
              "            progress.value = downloaded;\n",
              "          }\n",
              "        }\n",
              "      }\n",
              "      const blob = new Blob(buffers, {type: 'application/binary'});\n",
              "      const a = document.createElement('a');\n",
              "      a.href = window.URL.createObjectURL(blob);\n",
              "      a.download = filename;\n",
              "      div.appendChild(a);\n",
              "      a.click();\n",
              "      div.remove();\n",
              "    }\n",
              "  "
            ],
            "text/plain": [
              "<IPython.core.display.Javascript object>"
            ]
          },
          "metadata": {
            "tags": []
          }
        },
        {
          "output_type": "display_data",
          "data": {
            "application/javascript": [
              "download(\"download_6dcfd2cd-4265-4c1f-8e9d-2af59728330a\", \"pickle_model.pkl\", 516379)"
            ],
            "text/plain": [
              "<IPython.core.display.Javascript object>"
            ]
          },
          "metadata": {
            "tags": []
          }
        }
      ]
    },
    {
      "cell_type": "code",
      "metadata": {
        "id": "0Ssz0wd0iCM-",
        "colab_type": "code",
        "colab": {
          "resources": {
            "http://localhost:8080/nbextensions/google.colab/files.js": {
              "data": "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",
              "ok": true,
              "headers": [
                [
                  "content-type",
                  "application/javascript"
                ]
              ],
              "status": 200,
              "status_text": ""
            }
          },
          "base_uri": "https://localhost:8080/",
          "height": 72
        },
        "outputId": "14a8434a-4565-4cb1-d2f1-1722eda7e824"
      },
      "source": [
        "## Loading in model saved to a personal local drive\n",
        "from google.colab import files\n",
        "saved_model = files.upload()"
      ],
      "execution_count": 176,
      "outputs": [
        {
          "output_type": "display_data",
          "data": {
            "text/html": [
              "\n",
              "     <input type=\"file\" id=\"files-ead628c8-6ec6-491b-aed8-ff039040d97c\" name=\"files[]\" multiple disabled\n",
              "        style=\"border:none\" />\n",
              "     <output id=\"result-ead628c8-6ec6-491b-aed8-ff039040d97c\">\n",
              "      Upload widget is only available when the cell has been executed in the\n",
              "      current browser session. Please rerun this cell to enable.\n",
              "      </output>\n",
              "      <script src=\"/nbextensions/google.colab/files.js\"></script> "
            ],
            "text/plain": [
              "<IPython.core.display.HTML object>"
            ]
          },
          "metadata": {
            "tags": []
          }
        },
        {
          "output_type": "stream",
          "text": [
            "Saving pickled_model.pkl to pickled_model.pkl\n"
          ],
          "name": "stdout"
        }
      ]
    },
    {
      "cell_type": "code",
      "metadata": {
        "id": "1zMZi39YhhLC",
        "colab_type": "code",
        "colab": {
          "base_uri": "https://localhost:8080/",
          "height": 272
        },
        "outputId": "e69612e8-a83c-40af-a1f9-a906e7503cae"
      },
      "source": [
        "saved_model_filename = 'pickled_model.pkl'\n",
        "\n",
        "## loading the model into a \"variable\"\n",
        "with open(saved_model_filename, 'rb') as file:\n",
        "  pickle_model = pickle.load(file)\n",
        "\n",
        "## display the model that was loaded in\n",
        "pickle_model"
      ],
      "execution_count": 181,
      "outputs": [
        {
          "output_type": "execute_result",
          "data": {
            "text/plain": [
              "MultiOutputRegressor(estimator=XGBRegressor(base_score=0.5, booster='gbtree',\n",
              "                                            colsample_bylevel=1,\n",
              "                                            colsample_bynode=1,\n",
              "                                            colsample_bytree=1.0, gamma=0.7,\n",
              "                                            importance_type='gain',\n",
              "                                            learning_rate=0.1, max_delta_step=0,\n",
              "                                            max_depth=4, min_child_weight=1,\n",
              "                                            missing=nan, n_estimators=300,\n",
              "                                            n_jobs=1, nthread=None,\n",
              "                                            objective='reg:squarederror',\n",
              "                                            random_state=0, reg_alpha=0,\n",
              "                                            reg_lambda=2, scale_pos_weight=1,\n",
              "                                            seed=None, silent=None,\n",
              "                                            subsample=1.0, verbosity=1),\n",
              "                     n_jobs=None)"
            ]
          },
          "metadata": {
            "tags": []
          },
          "execution_count": 181
        }
      ]
    }
  ]
}