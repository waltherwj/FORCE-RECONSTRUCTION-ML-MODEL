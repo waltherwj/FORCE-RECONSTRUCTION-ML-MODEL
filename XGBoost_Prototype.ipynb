{
  "nbformat": 4,
  "nbformat_minor": 0,
  "metadata": {
    "colab": {
      "name": "XGBoost_Prototype.ipynb",
      "provenance": []
    },
    "kernelspec": {
      "name": "python3",
      "display_name": "Python 3"
    }
  },
  "cells": [
    {
      "cell_type": "markdown",
      "metadata": {
        "id": "uUjFEqMjJQa3",
        "colab_type": "text"
      },
      "source": [
        "# XGBoost Prototype\n",
        "This notebook will be used to develop a prototype machine learning model to be used for fitting the from the strain gauges for force reconstruction.\n",
        "At first the prototype is going to be developed using the dataset found at https://www.kaggle.com/daalgi/fem-simulations"
      ]
    },
    {
      "cell_type": "markdown",
      "metadata": {
        "id": "qGnx7o84R9_M",
        "colab_type": "text"
      },
      "source": [
        "## Introduction\n",
        "This first section introduces the general idea of what is going to be done and takes care of some housekeeping tasks like imports.\n",
        "The following cell imports the libraries we need for the model"
      ]
    },
    {
      "cell_type": "code",
      "metadata": {
        "id": "mN8kBsX3JHnD",
        "colab_type": "code",
        "colab": {}
      },
      "source": [
        "## Imports\n",
        "import numpy as np\n",
        "import pandas as pd\n",
        "import xgboost as xgb\n",
        "from sklearn.multioutput import MultiOutputRegressor\n",
        "from sklearn.metrics import mean_squared_error\n",
        "import matplotlib.pyplot as plt"
      ],
      "execution_count": 56,
      "outputs": []
    },
    {
      "cell_type": "markdown",
      "metadata": {
        "id": "huzKujbmJOhh",
        "colab_type": "text"
      },
      "source": [
        "Now the data needs to be loaded in. We are in a colab notebook, so the data is loaded as follows from a local drive which has to have the data already in it."
      ]
    },
    {
      "cell_type": "code",
      "metadata": {
        "id": "lH1GCohNSuYC",
        "colab_type": "code",
        "colab": {
          "resources": {
            "http://localhost:8080/nbextensions/google.colab/files.js": {
              "data": "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",
              "ok": true,
              "headers": [
                [
                  "content-type",
                  "application/javascript"
                ]
              ],
              "status": 200,
              "status_text": ""
            }
          },
          "base_uri": "https://localhost:8080/",
          "height": 72
        },
        "outputId": "a7af5498-2bf7-4341-c5ce-c7893f94655c"
      },
      "source": [
        "## Loading in data\n",
        "from google.colab import files\n",
        "uploaded = files.upload()"
      ],
      "execution_count": 2,
      "outputs": [
        {
          "output_type": "display_data",
          "data": {
            "text/html": [
              "\n",
              "     <input type=\"file\" id=\"files-34ed665c-3822-44cb-aec6-215850cdd15b\" name=\"files[]\" multiple disabled\n",
              "        style=\"border:none\" />\n",
              "     <output id=\"result-34ed665c-3822-44cb-aec6-215850cdd15b\">\n",
              "      Upload widget is only available when the cell has been executed in the\n",
              "      current browser session. Please rerun this cell to enable.\n",
              "      </output>\n",
              "      <script src=\"/nbextensions/google.colab/files.js\"></script> "
            ],
            "text/plain": [
              "<IPython.core.display.HTML object>"
            ]
          },
          "metadata": {
            "tags": []
          }
        },
        {
          "output_type": "stream",
          "text": [
            "Saving 5184doe.csv to 5184doe.csv\n"
          ],
          "name": "stdout"
        }
      ]
    },
    {
      "cell_type": "markdown",
      "metadata": {
        "id": "MoFRr3ZaT-pk",
        "colab_type": "text"
      },
      "source": [
        "\n",
        "In the previous step, we loaded the file from the drive into the colab workspace, and now we transform it into a data type called a \"dataframe\" which is easy to think of essentially as an excel table, with headers and all. The library that handles the dataframe data type is pandas, shortened to \"pd\" in the imports. The variable that stores this data is \"df\".\n",
        "\n",
        "The step of loading in the data is so simple because we are getting a dataset which is already very well formated. Whenever we get the actual dataset a lot will have to be done to pre-process it and create a dataset which is usable by the model."
      ]
    },
    {
      "cell_type": "code",
      "metadata": {
        "id": "jniQixp8UmjL",
        "colab_type": "code",
        "colab": {
          "base_uri": "https://localhost:8080/",
          "height": 419
        },
        "outputId": "988169b5-9f41-4e0e-d1c5-eefb6637baf8"
      },
      "source": [
        "## load data into variable\n",
        "df = pd.read_csv('5184doe.csv')\n",
        "\n",
        "# display the dataframe variable\n",
        "df"
      ],
      "execution_count": 9,
      "outputs": [
        {
          "output_type": "execute_result",
          "data": {
            "text/html": [
              "<div>\n",
              "<style scoped>\n",
              "    .dataframe tbody tr th:only-of-type {\n",
              "        vertical-align: middle;\n",
              "    }\n",
              "\n",
              "    .dataframe tbody tr th {\n",
              "        vertical-align: top;\n",
              "    }\n",
              "\n",
              "    .dataframe thead th {\n",
              "        text-align: right;\n",
              "    }\n",
              "</style>\n",
              "<table border=\"1\" class=\"dataframe\">\n",
              "  <thead>\n",
              "    <tr style=\"text-align: right;\">\n",
              "      <th></th>\n",
              "      <th>Sample</th>\n",
              "      <th>ecc</th>\n",
              "      <th>N</th>\n",
              "      <th>gammaG</th>\n",
              "      <th>Esoil</th>\n",
              "      <th>Econc</th>\n",
              "      <th>Dbot</th>\n",
              "      <th>H1</th>\n",
              "      <th>H2</th>\n",
              "      <th>H3</th>\n",
              "      <th>Mr_t</th>\n",
              "      <th>Mt_t</th>\n",
              "      <th>Mr_c</th>\n",
              "      <th>Mt_c</th>\n",
              "    </tr>\n",
              "  </thead>\n",
              "  <tbody>\n",
              "    <tr>\n",
              "      <th>0</th>\n",
              "      <td>1</td>\n",
              "      <td>0</td>\n",
              "      <td>2000</td>\n",
              "      <td>0.9</td>\n",
              "      <td>25</td>\n",
              "      <td>30000</td>\n",
              "      <td>17</td>\n",
              "      <td>0.8</td>\n",
              "      <td>1.0</td>\n",
              "      <td>0.8</td>\n",
              "      <td>0.082100</td>\n",
              "      <td>0.055648</td>\n",
              "      <td>0.082100</td>\n",
              "      <td>0.055648</td>\n",
              "    </tr>\n",
              "    <tr>\n",
              "      <th>1</th>\n",
              "      <td>2</td>\n",
              "      <td>10</td>\n",
              "      <td>2000</td>\n",
              "      <td>0.9</td>\n",
              "      <td>25</td>\n",
              "      <td>30000</td>\n",
              "      <td>17</td>\n",
              "      <td>0.8</td>\n",
              "      <td>1.0</td>\n",
              "      <td>0.8</td>\n",
              "      <td>-0.597084</td>\n",
              "      <td>-0.233470</td>\n",
              "      <td>1.160648</td>\n",
              "      <td>0.605016</td>\n",
              "    </tr>\n",
              "    <tr>\n",
              "      <th>2</th>\n",
              "      <td>3</td>\n",
              "      <td>18</td>\n",
              "      <td>2000</td>\n",
              "      <td>0.9</td>\n",
              "      <td>25</td>\n",
              "      <td>30000</td>\n",
              "      <td>17</td>\n",
              "      <td>0.8</td>\n",
              "      <td>1.0</td>\n",
              "      <td>0.8</td>\n",
              "      <td>-1.094196</td>\n",
              "      <td>-0.566130</td>\n",
              "      <td>1.908188</td>\n",
              "      <td>0.947770</td>\n",
              "    </tr>\n",
              "    <tr>\n",
              "      <th>3</th>\n",
              "      <td>4</td>\n",
              "      <td>26</td>\n",
              "      <td>2000</td>\n",
              "      <td>0.9</td>\n",
              "      <td>25</td>\n",
              "      <td>30000</td>\n",
              "      <td>17</td>\n",
              "      <td>0.8</td>\n",
              "      <td>1.0</td>\n",
              "      <td>0.8</td>\n",
              "      <td>-1.416485</td>\n",
              "      <td>-0.865039</td>\n",
              "      <td>2.844706</td>\n",
              "      <td>1.310545</td>\n",
              "    </tr>\n",
              "    <tr>\n",
              "      <th>4</th>\n",
              "      <td>5</td>\n",
              "      <td>0</td>\n",
              "      <td>2000</td>\n",
              "      <td>0.9</td>\n",
              "      <td>25</td>\n",
              "      <td>37000</td>\n",
              "      <td>17</td>\n",
              "      <td>0.8</td>\n",
              "      <td>1.0</td>\n",
              "      <td>0.8</td>\n",
              "      <td>0.079570</td>\n",
              "      <td>0.054213</td>\n",
              "      <td>0.079570</td>\n",
              "      <td>0.054213</td>\n",
              "    </tr>\n",
              "    <tr>\n",
              "      <th>...</th>\n",
              "      <td>...</td>\n",
              "      <td>...</td>\n",
              "      <td>...</td>\n",
              "      <td>...</td>\n",
              "      <td>...</td>\n",
              "      <td>...</td>\n",
              "      <td>...</td>\n",
              "      <td>...</td>\n",
              "      <td>...</td>\n",
              "      <td>...</td>\n",
              "      <td>...</td>\n",
              "      <td>...</td>\n",
              "      <td>...</td>\n",
              "      <td>...</td>\n",
              "    </tr>\n",
              "    <tr>\n",
              "      <th>5179</th>\n",
              "      <td>5180</td>\n",
              "      <td>26</td>\n",
              "      <td>5000</td>\n",
              "      <td>1.1</td>\n",
              "      <td>75</td>\n",
              "      <td>30000</td>\n",
              "      <td>23</td>\n",
              "      <td>1.6</td>\n",
              "      <td>2.0</td>\n",
              "      <td>1.6</td>\n",
              "      <td>-6.027412</td>\n",
              "      <td>-2.866107</td>\n",
              "      <td>6.471047</td>\n",
              "      <td>4.499262</td>\n",
              "    </tr>\n",
              "    <tr>\n",
              "      <th>5180</th>\n",
              "      <td>5181</td>\n",
              "      <td>0</td>\n",
              "      <td>5000</td>\n",
              "      <td>1.1</td>\n",
              "      <td>75</td>\n",
              "      <td>37000</td>\n",
              "      <td>23</td>\n",
              "      <td>1.6</td>\n",
              "      <td>2.0</td>\n",
              "      <td>1.6</td>\n",
              "      <td>0.143146</td>\n",
              "      <td>0.108935</td>\n",
              "      <td>0.143146</td>\n",
              "      <td>0.108935</td>\n",
              "    </tr>\n",
              "    <tr>\n",
              "      <th>5181</th>\n",
              "      <td>5182</td>\n",
              "      <td>10</td>\n",
              "      <td>5000</td>\n",
              "      <td>1.1</td>\n",
              "      <td>75</td>\n",
              "      <td>37000</td>\n",
              "      <td>23</td>\n",
              "      <td>1.6</td>\n",
              "      <td>2.0</td>\n",
              "      <td>1.6</td>\n",
              "      <td>-2.671362</td>\n",
              "      <td>-0.561849</td>\n",
              "      <td>1.702752</td>\n",
              "      <td>2.465506</td>\n",
              "    </tr>\n",
              "    <tr>\n",
              "      <th>5182</th>\n",
              "      <td>5183</td>\n",
              "      <td>18</td>\n",
              "      <td>5000</td>\n",
              "      <td>1.1</td>\n",
              "      <td>75</td>\n",
              "      <td>37000</td>\n",
              "      <td>23</td>\n",
              "      <td>1.6</td>\n",
              "      <td>2.0</td>\n",
              "      <td>1.6</td>\n",
              "      <td>-4.408298</td>\n",
              "      <td>-1.696514</td>\n",
              "      <td>4.021527</td>\n",
              "      <td>3.522614</td>\n",
              "    </tr>\n",
              "    <tr>\n",
              "      <th>5183</th>\n",
              "      <td>5184</td>\n",
              "      <td>26</td>\n",
              "      <td>5000</td>\n",
              "      <td>1.1</td>\n",
              "      <td>75</td>\n",
              "      <td>37000</td>\n",
              "      <td>23</td>\n",
              "      <td>1.6</td>\n",
              "      <td>2.0</td>\n",
              "      <td>1.6</td>\n",
              "      <td>-6.023094</td>\n",
              "      <td>-2.859481</td>\n",
              "      <td>6.345367</td>\n",
              "      <td>4.585227</td>\n",
              "    </tr>\n",
              "  </tbody>\n",
              "</table>\n",
              "<p>5184 rows × 14 columns</p>\n",
              "</div>"
            ],
            "text/plain": [
              "      Sample  ecc     N  gammaG  ...      Mr_t      Mt_t      Mr_c      Mt_c\n",
              "0          1    0  2000     0.9  ...  0.082100  0.055648  0.082100  0.055648\n",
              "1          2   10  2000     0.9  ... -0.597084 -0.233470  1.160648  0.605016\n",
              "2          3   18  2000     0.9  ... -1.094196 -0.566130  1.908188  0.947770\n",
              "3          4   26  2000     0.9  ... -1.416485 -0.865039  2.844706  1.310545\n",
              "4          5    0  2000     0.9  ...  0.079570  0.054213  0.079570  0.054213\n",
              "...      ...  ...   ...     ...  ...       ...       ...       ...       ...\n",
              "5179    5180   26  5000     1.1  ... -6.027412 -2.866107  6.471047  4.499262\n",
              "5180    5181    0  5000     1.1  ...  0.143146  0.108935  0.143146  0.108935\n",
              "5181    5182   10  5000     1.1  ... -2.671362 -0.561849  1.702752  2.465506\n",
              "5182    5183   18  5000     1.1  ... -4.408298 -1.696514  4.021527  3.522614\n",
              "5183    5184   26  5000     1.1  ... -6.023094 -2.859481  6.345367  4.585227\n",
              "\n",
              "[5184 rows x 14 columns]"
            ]
          },
          "metadata": {
            "tags": []
          },
          "execution_count": 9
        }
      ]
    },
    {
      "cell_type": "markdown",
      "metadata": {
        "id": "egNp-zJiXUT-",
        "colab_type": "text"
      },
      "source": [
        "The headers aren't very descriptive, but reading the dataset description:\n",
        "- load parameters: ecc, N, gammaG.\n",
        "- material parameters: Esoil, Econc.\n",
        "- geometry parameters: Dbot, H1, H2, H3.\n",
        "- stress related results: Mrt, Mtt, Mrc, Mtc.\n",
        "\n",
        "Knowing this, we can decide on what is going to be used for the input and what is going to be used for the output. \n",
        "\n",
        "It is desirable to keep the prototype as close as possible to the final model. The final model should have this behaviour (on prediction):\n",
        "\n",
        "$$ \n",
        "f: \\text{(strain gauge voltages)} \\mapsto \\text{(wheel hub loads)}\n",
        "$$\n",
        "Therefore the closest that can be achieved with the prototype for this dataset being naive and not trying to figure out how to exclude geometry parameters is to simply include the material and geometry parameters in the model, such that it behaves like this\n",
        "$$ \n",
        "f: (E_{soil}, E_{conc}, D_{bot}, H_1, H_2, H_3, M_{rt}, M_{tt}, M_{rc}, M_{tc}) \\mapsto (e_{cc}, N, \\gamma_g)\n",
        "$$"
      ]
    },
    {
      "cell_type": "markdown",
      "metadata": {
        "id": "KIdUubezC-HE",
        "colab_type": "text"
      },
      "source": [
        "## Data investigation and split\n",
        "It is good to investigate the dataset a little to better understand what type of data is in it, and then split it into the input and output of the model"
      ]
    },
    {
      "cell_type": "code",
      "metadata": {
        "id": "_U5knm-oahdk",
        "colab_type": "code",
        "colab": {
          "base_uri": "https://localhost:8080/",
          "height": 374
        },
        "outputId": "38a45eb0-86cc-4326-c8f5-432323249501"
      },
      "source": [
        "# showing data types and number of empty entries\n",
        "df.info()"
      ],
      "execution_count": 7,
      "outputs": [
        {
          "output_type": "stream",
          "text": [
            "<class 'pandas.core.frame.DataFrame'>\n",
            "RangeIndex: 5184 entries, 0 to 5183\n",
            "Data columns (total 14 columns):\n",
            " #   Column  Non-Null Count  Dtype  \n",
            "---  ------  --------------  -----  \n",
            " 0   Sample  5184 non-null   int64  \n",
            " 1   ecc     5184 non-null   int64  \n",
            " 2   N       5184 non-null   int64  \n",
            " 3   gammaG  5184 non-null   float64\n",
            " 4   Esoil   5184 non-null   int64  \n",
            " 5   Econc   5184 non-null   int64  \n",
            " 6   Dbot    5184 non-null   int64  \n",
            " 7   H1      5184 non-null   float64\n",
            " 8   H2      5184 non-null   float64\n",
            " 9   H3      5184 non-null   float64\n",
            " 10  Mr_t    5184 non-null   float64\n",
            " 11  Mt_t    5184 non-null   float64\n",
            " 12  Mr_c    5184 non-null   float64\n",
            " 13  Mt_c    5184 non-null   float64\n",
            "dtypes: float64(8), int64(6)\n",
            "memory usage: 567.1 KB\n"
          ],
          "name": "stdout"
        }
      ]
    },
    {
      "cell_type": "code",
      "metadata": {
        "id": "uZxuz1F9CyNQ",
        "colab_type": "code",
        "colab": {
          "base_uri": "https://localhost:8080/",
          "height": 297
        },
        "outputId": "d6767b4b-d6b7-456d-83d5-1421f96ff7a9"
      },
      "source": [
        "## showing general statistics for the dataset parameters\n",
        "df.describe()"
      ],
      "execution_count": 8,
      "outputs": [
        {
          "output_type": "execute_result",
          "data": {
            "text/html": [
              "<div>\n",
              "<style scoped>\n",
              "    .dataframe tbody tr th:only-of-type {\n",
              "        vertical-align: middle;\n",
              "    }\n",
              "\n",
              "    .dataframe tbody tr th {\n",
              "        vertical-align: top;\n",
              "    }\n",
              "\n",
              "    .dataframe thead th {\n",
              "        text-align: right;\n",
              "    }\n",
              "</style>\n",
              "<table border=\"1\" class=\"dataframe\">\n",
              "  <thead>\n",
              "    <tr style=\"text-align: right;\">\n",
              "      <th></th>\n",
              "      <th>Sample</th>\n",
              "      <th>ecc</th>\n",
              "      <th>N</th>\n",
              "      <th>gammaG</th>\n",
              "      <th>Esoil</th>\n",
              "      <th>Econc</th>\n",
              "      <th>Dbot</th>\n",
              "      <th>H1</th>\n",
              "      <th>H2</th>\n",
              "      <th>H3</th>\n",
              "      <th>Mr_t</th>\n",
              "      <th>Mt_t</th>\n",
              "      <th>Mr_c</th>\n",
              "      <th>Mt_c</th>\n",
              "    </tr>\n",
              "  </thead>\n",
              "  <tbody>\n",
              "    <tr>\n",
              "      <th>count</th>\n",
              "      <td>5184.000000</td>\n",
              "      <td>5184.000000</td>\n",
              "      <td>5184.000000</td>\n",
              "      <td>5184.00000</td>\n",
              "      <td>5184.000000</td>\n",
              "      <td>5184.000000</td>\n",
              "      <td>5184.000000</td>\n",
              "      <td>5184.00000</td>\n",
              "      <td>5184.000000</td>\n",
              "      <td>5184.00000</td>\n",
              "      <td>5184.000000</td>\n",
              "      <td>5184.000000</td>\n",
              "      <td>5184.000000</td>\n",
              "      <td>5184.000000</td>\n",
              "    </tr>\n",
              "    <tr>\n",
              "      <th>mean</th>\n",
              "      <td>2592.500000</td>\n",
              "      <td>13.500000</td>\n",
              "      <td>3500.000000</td>\n",
              "      <td>1.00000</td>\n",
              "      <td>50.000000</td>\n",
              "      <td>33500.000000</td>\n",
              "      <td>20.000000</td>\n",
              "      <td>1.20000</td>\n",
              "      <td>1.500000</td>\n",
              "      <td>1.20000</td>\n",
              "      <td>-1.629734</td>\n",
              "      <td>-0.810779</td>\n",
              "      <td>2.650433</td>\n",
              "      <td>1.518741</td>\n",
              "    </tr>\n",
              "    <tr>\n",
              "      <th>std</th>\n",
              "      <td>1496.636228</td>\n",
              "      <td>9.631609</td>\n",
              "      <td>1500.144697</td>\n",
              "      <td>0.10001</td>\n",
              "      <td>25.002412</td>\n",
              "      <td>3500.337626</td>\n",
              "      <td>2.449726</td>\n",
              "      <td>0.32663</td>\n",
              "      <td>0.408288</td>\n",
              "      <td>0.32663</td>\n",
              "      <td>1.426607</td>\n",
              "      <td>0.859657</td>\n",
              "      <td>2.475025</td>\n",
              "      <td>1.226075</td>\n",
              "    </tr>\n",
              "    <tr>\n",
              "      <th>min</th>\n",
              "      <td>1.000000</td>\n",
              "      <td>0.000000</td>\n",
              "      <td>2000.000000</td>\n",
              "      <td>0.90000</td>\n",
              "      <td>25.000000</td>\n",
              "      <td>30000.000000</td>\n",
              "      <td>17.000000</td>\n",
              "      <td>0.80000</td>\n",
              "      <td>1.000000</td>\n",
              "      <td>0.80000</td>\n",
              "      <td>-6.027412</td>\n",
              "      <td>-2.968574</td>\n",
              "      <td>0.024414</td>\n",
              "      <td>0.014080</td>\n",
              "    </tr>\n",
              "    <tr>\n",
              "      <th>25%</th>\n",
              "      <td>1296.750000</td>\n",
              "      <td>7.500000</td>\n",
              "      <td>2000.000000</td>\n",
              "      <td>0.90000</td>\n",
              "      <td>25.000000</td>\n",
              "      <td>30000.000000</td>\n",
              "      <td>17.000000</td>\n",
              "      <td>0.80000</td>\n",
              "      <td>1.000000</td>\n",
              "      <td>0.80000</td>\n",
              "      <td>-2.402849</td>\n",
              "      <td>-1.191169</td>\n",
              "      <td>0.251651</td>\n",
              "      <td>0.458440</td>\n",
              "    </tr>\n",
              "    <tr>\n",
              "      <th>50%</th>\n",
              "      <td>2592.500000</td>\n",
              "      <td>14.000000</td>\n",
              "      <td>3500.000000</td>\n",
              "      <td>1.00000</td>\n",
              "      <td>50.000000</td>\n",
              "      <td>33500.000000</td>\n",
              "      <td>20.000000</td>\n",
              "      <td>1.20000</td>\n",
              "      <td>1.500000</td>\n",
              "      <td>1.20000</td>\n",
              "      <td>-1.554450</td>\n",
              "      <td>-0.620024</td>\n",
              "      <td>2.138881</td>\n",
              "      <td>1.349318</td>\n",
              "    </tr>\n",
              "    <tr>\n",
              "      <th>75%</th>\n",
              "      <td>3888.250000</td>\n",
              "      <td>20.000000</td>\n",
              "      <td>5000.000000</td>\n",
              "      <td>1.10000</td>\n",
              "      <td>75.000000</td>\n",
              "      <td>37000.000000</td>\n",
              "      <td>23.000000</td>\n",
              "      <td>1.60000</td>\n",
              "      <td>2.000000</td>\n",
              "      <td>1.60000</td>\n",
              "      <td>-0.176328</td>\n",
              "      <td>0.018693</td>\n",
              "      <td>3.716968</td>\n",
              "      <td>2.413945</td>\n",
              "    </tr>\n",
              "    <tr>\n",
              "      <th>max</th>\n",
              "      <td>5184.000000</td>\n",
              "      <td>26.000000</td>\n",
              "      <td>5000.000000</td>\n",
              "      <td>1.10000</td>\n",
              "      <td>75.000000</td>\n",
              "      <td>37000.000000</td>\n",
              "      <td>23.000000</td>\n",
              "      <td>1.60000</td>\n",
              "      <td>2.000000</td>\n",
              "      <td>1.60000</td>\n",
              "      <td>0.251917</td>\n",
              "      <td>0.201895</td>\n",
              "      <td>9.408445</td>\n",
              "      <td>4.585227</td>\n",
              "    </tr>\n",
              "  </tbody>\n",
              "</table>\n",
              "</div>"
            ],
            "text/plain": [
              "            Sample          ecc  ...         Mr_c         Mt_c\n",
              "count  5184.000000  5184.000000  ...  5184.000000  5184.000000\n",
              "mean   2592.500000    13.500000  ...     2.650433     1.518741\n",
              "std    1496.636228     9.631609  ...     2.475025     1.226075\n",
              "min       1.000000     0.000000  ...     0.024414     0.014080\n",
              "25%    1296.750000     7.500000  ...     0.251651     0.458440\n",
              "50%    2592.500000    14.000000  ...     2.138881     1.349318\n",
              "75%    3888.250000    20.000000  ...     3.716968     2.413945\n",
              "max    5184.000000    26.000000  ...     9.408445     4.585227\n",
              "\n",
              "[8 rows x 14 columns]"
            ]
          },
          "metadata": {
            "tags": []
          },
          "execution_count": 8
        }
      ]
    },
    {
      "cell_type": "markdown",
      "metadata": {
        "id": "QUwKM51iCSVo",
        "colab_type": "text"
      },
      "source": [
        "Now we split the data into two datasets. It is common practice to call the inputs of a machine learning model \"X\", and the target/output of the model \"y\", however for the sake of making the model more readable in the future, I'm going to use \"voltages\" for the inputs and \"forces\" for the outputs/targets, even though the dataset we're using to develop the prototype has nothing to do with voltages."
      ]
    },
    {
      "cell_type": "code",
      "metadata": {
        "id": "mmJ0FE5OXgSP",
        "colab_type": "code",
        "colab": {
          "base_uri": "https://localhost:8080/",
          "height": 419
        },
        "outputId": "880a81e9-585c-4693-cf6b-160887f1dc18"
      },
      "source": [
        "# splitting dataset into input and output\n",
        "voltages, forces = df.iloc[:,4:], df.iloc[:,1:4] #voltages are all rows of columns after the fourth, \n",
        "                                                 #and forces are all rows of columns before the fourth except for the first  \n",
        "\n",
        "# displaying voltages for a sanity check that we got the correct columns\n",
        "voltages"
      ],
      "execution_count": 15,
      "outputs": [
        {
          "output_type": "execute_result",
          "data": {
            "text/html": [
              "<div>\n",
              "<style scoped>\n",
              "    .dataframe tbody tr th:only-of-type {\n",
              "        vertical-align: middle;\n",
              "    }\n",
              "\n",
              "    .dataframe tbody tr th {\n",
              "        vertical-align: top;\n",
              "    }\n",
              "\n",
              "    .dataframe thead th {\n",
              "        text-align: right;\n",
              "    }\n",
              "</style>\n",
              "<table border=\"1\" class=\"dataframe\">\n",
              "  <thead>\n",
              "    <tr style=\"text-align: right;\">\n",
              "      <th></th>\n",
              "      <th>Esoil</th>\n",
              "      <th>Econc</th>\n",
              "      <th>Dbot</th>\n",
              "      <th>H1</th>\n",
              "      <th>H2</th>\n",
              "      <th>H3</th>\n",
              "      <th>Mr_t</th>\n",
              "      <th>Mt_t</th>\n",
              "      <th>Mr_c</th>\n",
              "      <th>Mt_c</th>\n",
              "    </tr>\n",
              "  </thead>\n",
              "  <tbody>\n",
              "    <tr>\n",
              "      <th>0</th>\n",
              "      <td>25</td>\n",
              "      <td>30000</td>\n",
              "      <td>17</td>\n",
              "      <td>0.8</td>\n",
              "      <td>1.0</td>\n",
              "      <td>0.8</td>\n",
              "      <td>0.082100</td>\n",
              "      <td>0.055648</td>\n",
              "      <td>0.082100</td>\n",
              "      <td>0.055648</td>\n",
              "    </tr>\n",
              "    <tr>\n",
              "      <th>1</th>\n",
              "      <td>25</td>\n",
              "      <td>30000</td>\n",
              "      <td>17</td>\n",
              "      <td>0.8</td>\n",
              "      <td>1.0</td>\n",
              "      <td>0.8</td>\n",
              "      <td>-0.597084</td>\n",
              "      <td>-0.233470</td>\n",
              "      <td>1.160648</td>\n",
              "      <td>0.605016</td>\n",
              "    </tr>\n",
              "    <tr>\n",
              "      <th>2</th>\n",
              "      <td>25</td>\n",
              "      <td>30000</td>\n",
              "      <td>17</td>\n",
              "      <td>0.8</td>\n",
              "      <td>1.0</td>\n",
              "      <td>0.8</td>\n",
              "      <td>-1.094196</td>\n",
              "      <td>-0.566130</td>\n",
              "      <td>1.908188</td>\n",
              "      <td>0.947770</td>\n",
              "    </tr>\n",
              "    <tr>\n",
              "      <th>3</th>\n",
              "      <td>25</td>\n",
              "      <td>30000</td>\n",
              "      <td>17</td>\n",
              "      <td>0.8</td>\n",
              "      <td>1.0</td>\n",
              "      <td>0.8</td>\n",
              "      <td>-1.416485</td>\n",
              "      <td>-0.865039</td>\n",
              "      <td>2.844706</td>\n",
              "      <td>1.310545</td>\n",
              "    </tr>\n",
              "    <tr>\n",
              "      <th>4</th>\n",
              "      <td>25</td>\n",
              "      <td>37000</td>\n",
              "      <td>17</td>\n",
              "      <td>0.8</td>\n",
              "      <td>1.0</td>\n",
              "      <td>0.8</td>\n",
              "      <td>0.079570</td>\n",
              "      <td>0.054213</td>\n",
              "      <td>0.079570</td>\n",
              "      <td>0.054213</td>\n",
              "    </tr>\n",
              "    <tr>\n",
              "      <th>...</th>\n",
              "      <td>...</td>\n",
              "      <td>...</td>\n",
              "      <td>...</td>\n",
              "      <td>...</td>\n",
              "      <td>...</td>\n",
              "      <td>...</td>\n",
              "      <td>...</td>\n",
              "      <td>...</td>\n",
              "      <td>...</td>\n",
              "      <td>...</td>\n",
              "    </tr>\n",
              "    <tr>\n",
              "      <th>5179</th>\n",
              "      <td>75</td>\n",
              "      <td>30000</td>\n",
              "      <td>23</td>\n",
              "      <td>1.6</td>\n",
              "      <td>2.0</td>\n",
              "      <td>1.6</td>\n",
              "      <td>-6.027412</td>\n",
              "      <td>-2.866107</td>\n",
              "      <td>6.471047</td>\n",
              "      <td>4.499262</td>\n",
              "    </tr>\n",
              "    <tr>\n",
              "      <th>5180</th>\n",
              "      <td>75</td>\n",
              "      <td>37000</td>\n",
              "      <td>23</td>\n",
              "      <td>1.6</td>\n",
              "      <td>2.0</td>\n",
              "      <td>1.6</td>\n",
              "      <td>0.143146</td>\n",
              "      <td>0.108935</td>\n",
              "      <td>0.143146</td>\n",
              "      <td>0.108935</td>\n",
              "    </tr>\n",
              "    <tr>\n",
              "      <th>5181</th>\n",
              "      <td>75</td>\n",
              "      <td>37000</td>\n",
              "      <td>23</td>\n",
              "      <td>1.6</td>\n",
              "      <td>2.0</td>\n",
              "      <td>1.6</td>\n",
              "      <td>-2.671362</td>\n",
              "      <td>-0.561849</td>\n",
              "      <td>1.702752</td>\n",
              "      <td>2.465506</td>\n",
              "    </tr>\n",
              "    <tr>\n",
              "      <th>5182</th>\n",
              "      <td>75</td>\n",
              "      <td>37000</td>\n",
              "      <td>23</td>\n",
              "      <td>1.6</td>\n",
              "      <td>2.0</td>\n",
              "      <td>1.6</td>\n",
              "      <td>-4.408298</td>\n",
              "      <td>-1.696514</td>\n",
              "      <td>4.021527</td>\n",
              "      <td>3.522614</td>\n",
              "    </tr>\n",
              "    <tr>\n",
              "      <th>5183</th>\n",
              "      <td>75</td>\n",
              "      <td>37000</td>\n",
              "      <td>23</td>\n",
              "      <td>1.6</td>\n",
              "      <td>2.0</td>\n",
              "      <td>1.6</td>\n",
              "      <td>-6.023094</td>\n",
              "      <td>-2.859481</td>\n",
              "      <td>6.345367</td>\n",
              "      <td>4.585227</td>\n",
              "    </tr>\n",
              "  </tbody>\n",
              "</table>\n",
              "<p>5184 rows × 10 columns</p>\n",
              "</div>"
            ],
            "text/plain": [
              "      Esoil  Econc  Dbot   H1   H2   H3      Mr_t      Mt_t      Mr_c      Mt_c\n",
              "0        25  30000    17  0.8  1.0  0.8  0.082100  0.055648  0.082100  0.055648\n",
              "1        25  30000    17  0.8  1.0  0.8 -0.597084 -0.233470  1.160648  0.605016\n",
              "2        25  30000    17  0.8  1.0  0.8 -1.094196 -0.566130  1.908188  0.947770\n",
              "3        25  30000    17  0.8  1.0  0.8 -1.416485 -0.865039  2.844706  1.310545\n",
              "4        25  37000    17  0.8  1.0  0.8  0.079570  0.054213  0.079570  0.054213\n",
              "...     ...    ...   ...  ...  ...  ...       ...       ...       ...       ...\n",
              "5179     75  30000    23  1.6  2.0  1.6 -6.027412 -2.866107  6.471047  4.499262\n",
              "5180     75  37000    23  1.6  2.0  1.6  0.143146  0.108935  0.143146  0.108935\n",
              "5181     75  37000    23  1.6  2.0  1.6 -2.671362 -0.561849  1.702752  2.465506\n",
              "5182     75  37000    23  1.6  2.0  1.6 -4.408298 -1.696514  4.021527  3.522614\n",
              "5183     75  37000    23  1.6  2.0  1.6 -6.023094 -2.859481  6.345367  4.585227\n",
              "\n",
              "[5184 rows x 10 columns]"
            ]
          },
          "metadata": {
            "tags": []
          },
          "execution_count": 15
        }
      ]
    },
    {
      "cell_type": "code",
      "metadata": {
        "id": "ydMoGlFslW2n",
        "colab_type": "code",
        "colab": {}
      },
      "source": [
        ""
      ],
      "execution_count": null,
      "outputs": []
    },
    {
      "cell_type": "markdown",
      "metadata": {
        "id": "9zNd6ENdbdQX",
        "colab_type": "text"
      },
      "source": [
        "## Regressor \n",
        "Most regression algorithms in machine learning use a single regression value. This presents a problem since our objective is to predict at least 3 values for the force $(x,y,z)$. There are several ways to circumvent this issue, and neural networks/deep learning models handle this natively, but for our problem likely the simplest is to wrap the model in a multioutput wrapper such as `sklearn.multioutput.MultiOutputRegressor`. [This seems to be the current supported method as per the xgboost github.](https://github.com/dmlc/xgboost/issues/2087)."
      ]
    },
    {
      "cell_type": "code",
      "metadata": {
        "id": "SZFCtG2MoBPC",
        "colab_type": "code",
        "colab": {
          "base_uri": "https://localhost:8080/",
          "height": 442
        },
        "outputId": "b65cc84e-ad93-42a6-93d9-605d9f1a3f42"
      },
      "source": [
        "## Defining regressors\n",
        "\n",
        "# simple xgboost regressor\n",
        "single_model = xgb.XGBRegressor(n_estimators=2000, max_depth=20, learning_rate=0.01)\n",
        "print(single_model)\n",
        "\n",
        "# multi output regressor\n",
        "model = MultiOutputRegressor(single_model)\n",
        "print(\"\\n\")\n",
        "print(model)"
      ],
      "execution_count": 29,
      "outputs": [
        {
          "output_type": "stream",
          "text": [
            "XGBRegressor(base_score=0.5, booster='gbtree', colsample_bylevel=1,\n",
            "             colsample_bynode=1, colsample_bytree=1, gamma=0,\n",
            "             importance_type='gain', learning_rate=0.01, max_delta_step=0,\n",
            "             max_depth=20, min_child_weight=1, missing=None, n_estimators=2000,\n",
            "             n_jobs=1, nthread=None, objective='reg:linear', random_state=0,\n",
            "             reg_alpha=0, reg_lambda=1, scale_pos_weight=1, seed=None,\n",
            "             silent=None, subsample=1, verbosity=1)\n",
            "\n",
            "\n",
            "MultiOutputRegressor(estimator=XGBRegressor(base_score=0.5, booster='gbtree',\n",
            "                                            colsample_bylevel=1,\n",
            "                                            colsample_bynode=1,\n",
            "                                            colsample_bytree=1, gamma=0,\n",
            "                                            importance_type='gain',\n",
            "                                            learning_rate=0.01,\n",
            "                                            max_delta_step=0, max_depth=20,\n",
            "                                            min_child_weight=1, missing=None,\n",
            "                                            n_estimators=2000, n_jobs=1,\n",
            "                                            nthread=None,\n",
            "                                            objective='reg:linear',\n",
            "                                            random_state=0, reg_alpha=0,\n",
            "                                            reg_lambda=1, scale_pos_weight=1,\n",
            "                                            seed=None, silent=None, subsample=1,\n",
            "                                            verbosity=1),\n",
            "                     n_jobs=None)\n"
          ],
          "name": "stdout"
        }
      ]
    },
    {
      "cell_type": "code",
      "metadata": {
        "id": "jHBWaARshJqy",
        "colab_type": "code",
        "colab": {
          "base_uri": "https://localhost:8080/",
          "height": 68
        },
        "outputId": "7a170bf0-bd6a-4b56-ac92-c281e23233b2"
      },
      "source": [
        "# fitting\n",
        "multioutputregressor = model.fit(voltages, forces)"
      ],
      "execution_count": 31,
      "outputs": [
        {
          "output_type": "stream",
          "text": [
            "[02:47:03] WARNING: /workspace/src/objective/regression_obj.cu:152: reg:linear is now deprecated in favor of reg:squarederror.\n",
            "[02:47:13] WARNING: /workspace/src/objective/regression_obj.cu:152: reg:linear is now deprecated in favor of reg:squarederror.\n",
            "[02:47:29] WARNING: /workspace/src/objective/regression_obj.cu:152: reg:linear is now deprecated in favor of reg:squarederror.\n"
          ],
          "name": "stdout"
        }
      ]
    },
    {
      "cell_type": "code",
      "metadata": {
        "id": "Fmc8cTb5oA1m",
        "colab_type": "code",
        "colab": {
          "base_uri": "https://localhost:8080/",
          "height": 136
        },
        "outputId": "2749c4f8-2c6b-4171-9393-c3b112a84e79"
      },
      "source": [
        "# prediction\n",
        "preds = model.predict(voltages)\n",
        "preds = np.array(preds)\n",
        "preds"
      ],
      "execution_count": 33,
      "outputs": [
        {
          "output_type": "execute_result",
          "data": {
            "text/plain": [
              "array([[5.0961971e-06, 3.4999878e+03, 9.0029275e-01],\n",
              "       [9.9999771e+00, 1.9999940e+03, 9.0010095e-01],\n",
              "       [1.7999866e+01, 1.9999940e+03, 8.9997303e-01],\n",
              "       ...,\n",
              "       [1.0000171e+01, 4.9999756e+03, 1.1003637e+00],\n",
              "       [1.7999958e+01, 4.9999761e+03, 1.0998728e+00],\n",
              "       [2.5999891e+01, 4.9999761e+03, 1.0999899e+00]], dtype=float32)"
            ]
          },
          "metadata": {
            "tags": []
          },
          "execution_count": 33
        }
      ]
    },
    {
      "cell_type": "markdown",
      "metadata": {
        "id": "Vy4pojXosz9a",
        "colab_type": "text"
      },
      "source": [
        "## Evaluating\n",
        "A good way of visualizing the performance of the model is to use the mean squared error with each of the force parameters when compared to the model predictions. "
      ]
    },
    {
      "cell_type": "code",
      "metadata": {
        "id": "1TOqBrrhuBOl",
        "colab_type": "code",
        "colab": {
          "base_uri": "https://localhost:8080/",
          "height": 312
        },
        "outputId": "fcaafa51-8c38-4c6e-9227-6f55d6abad42"
      },
      "source": [
        "# the root squared error for ecc\n",
        "rse_ecc = np.sqrt((preds[:,0] - np.array(df['ecc']))**2)\n",
        "\n",
        "# the squared error percentage compared to the mean\n",
        "rse_perc_ecc = (rse_ecc/df['ecc'].mean())*100\n",
        "plt.plot(rse_perc_ecc)\n",
        "plt.title('ecc root squared percent error')\n",
        "plt.ylabel('root square percent error')\n",
        "plt.xlabel('sample')\n",
        "\n",
        "# the mean squared error\n",
        "mse_ecc = mean_squared_error(preds[:,0],np.array(df['ecc']))\n",
        "print(f'mean squared error: {mse_ecc}')"
      ],
      "execution_count": 77,
      "outputs": [
        {
          "output_type": "stream",
          "text": [
            "mean squared error: 9.445673217526552e-09\n"
          ],
          "name": "stdout"
        },
        {
          "output_type": "display_data",
          "data": {
            "image/png": "[encoded data removed]",
            "text/plain": [
              "<Figure size 432x288 with 1 Axes>"
            ]
          },
          "metadata": {
            "tags": [],
            "needs_background": "light"
          }
        }
      ]
    },
    {
      "cell_type": "code",
      "metadata": {
        "id": "M1_yShjPxpOJ",
        "colab_type": "code",
        "colab": {
          "base_uri": "https://localhost:8080/",
          "height": 312
        },
        "outputId": "388c5ee0-d7e4-4f63-87dd-880b689a8b03"
      },
      "source": [
        "# the root squared error for N\n",
        "rse_N = np.sqrt((preds[:,1] - np.array(df['N']))**2)\n",
        "\n",
        "# the squared error percentage compared to the mean\n",
        "rse_perc_N = (rse_N/df['N'].mean())*100\n",
        "plt.plot(rse_perc_N[0:100], '-')\n",
        "plt.title('N root squared error')\n",
        "plt.ylabel('root square percent error')\n",
        "plt.xlabel('sample')\n",
        "\n",
        "# the mean squared error\n",
        "mse_N = mean_squared_error(preds[:,1],np.array(df['N']))\n",
        "print(f'mean squared error: {mse_N}')"
      ],
      "execution_count": 81,
      "outputs": [
        {
          "output_type": "stream",
          "text": [
            "mean squared error: 562500.0002617456\n"
          ],
          "name": "stdout"
        },
        {
          "output_type": "display_data",
          "data": {
            "image/png": "[encoded data removed]",
            "text/plain": [
              "<Figure size 432x288 with 1 Axes>"
            ]
          },
          "metadata": {
            "tags": [],
            "needs_background": "light"
          }
        }
      ]
    },
    {
      "cell_type": "code",
      "metadata": {
        "id": "nk5izPvR1o1Y",
        "colab_type": "code",
        "colab": {
          "base_uri": "https://localhost:8080/",
          "height": 312
        },
        "outputId": "4ee0131a-24f8-4e3b-bb57-e95fd84610b3"
      },
      "source": [
        "# the root squared error for N\n",
        "rse_gamma = np.sqrt((preds[:,2] - np.array(df['gammaG']))**2)\n",
        "\n",
        "# the squared error percentage compared to the mean\n",
        "rse_perc_gamma = (rse_gamma/df['gammaG'].mean())*100\n",
        "plt.plot(rse_perc_gamma)\n",
        "plt.title('gamma root squared percent error')\n",
        "plt.ylabel('root square percent error')\n",
        "plt.xlabel('sample')\n",
        "\n",
        "# the mean squared error\n",
        "mse_gamma = mean_squared_error(preds[:,2],np.array(df['gammaG']))\n",
        "print(f'mean squared error: {mse_gamma}')"
      ],
      "execution_count": 75,
      "outputs": [
        {
          "output_type": "stream",
          "text": [
            "mean squared error: 2.7758863901639538e-06\n"
          ],
          "name": "stdout"
        },
        {
          "output_type": "display_data",
          "data": {
            "image/png": "[encoded data removed]",
            "text/plain": [
              "<Figure size 432x288 with 1 Axes>"
            ]
          },
          "metadata": {
            "tags": [],
            "needs_background": "light"
          }
        }
      ]
    },
    {
      "cell_type": "markdown",
      "metadata": {
        "id": "giySFCvx2djE",
        "colab_type": "text"
      },
      "source": [
        "So for both $e_{cc}$ and $\\gamma_G$ the model was very performant, with maximum percent errors of 0.012% and 1.2% w.r.t their mean values, respectively. $N$ was problematic and although most of the error values seem to be very low (~0.2), it very often is wrong on the order of about 1500. Again, I don't know what $N$ is but it might just be that it is a value that isn't strongly correlated with the inputs."
      ]
    },
    {
      "cell_type": "markdown",
      "metadata": {
        "id": "AYyuzMtTnNG2",
        "colab_type": "text"
      },
      "source": [
        "## Tuning\n",
        "It is worth it to devote some time to tuning after figuring out the general model structure. This can be easily done with `GridSearchCV`"
      ]
    },
    {
      "cell_type": "code",
      "metadata": {
        "id": "4D94PD2inZt6",
        "colab_type": "code",
        "colab": {}
      },
      "source": [
        ""
      ],
      "execution_count": null,
      "outputs": []
    },
    {
      "cell_type": "markdown",
      "metadata": {
        "id": "0Bwad90krIC_",
        "colab_type": "text"
      },
      "source": [
        "## Saving\n",
        "After finding a good model, it is important to save it for future use. This can be done with `pickle.dump` and `pickle.load`"
      ]
    },
    {
      "cell_type": "code",
      "metadata": {
        "id": "UUfbF8ATrPgg",
        "colab_type": "code",
        "colab": {}
      },
      "source": [
        ""
      ],
      "execution_count": null,
      "outputs": []
    }
  ]
}